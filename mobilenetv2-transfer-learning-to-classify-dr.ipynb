{
 "cells": [
  {
   "cell_type": "code",
   "execution_count": 1,
   "metadata": {
    "execution": {
     "iopub.execute_input": "2021-02-22T16:49:29.101683Z",
     "iopub.status.busy": "2021-02-22T16:49:29.100909Z",
     "iopub.status.idle": "2021-02-22T16:49:37.856124Z",
     "shell.execute_reply": "2021-02-22T16:49:37.855543Z"
    },
    "papermill": {
     "duration": 8.798342,
     "end_time": "2021-02-22T16:49:37.856346",
     "exception": false,
     "start_time": "2021-02-22T16:49:29.058004",
     "status": "completed"
    },
    "tags": []
   },
   "outputs": [
    {
     "name": "stdout",
     "output_type": "stream",
     "text": [
      "[PhysicalDevice(name='/physical_device:CPU:0', device_type='CPU'), PhysicalDevice(name='/physical_device:GPU:0', device_type='GPU')]\n",
      "GPU Available: True\n"
     ]
    }
   ],
   "source": [
    "# all needed imports here\n",
    "import numpy as np\n",
    "import pandas as pd\n",
    "import tensorflow as tf\n",
    "from tensorflow import keras\n",
    "from tensorflow.keras.models import Sequential\n",
    "from tensorflow.keras.models import Model\n",
    "from tensorflow.keras.layers import Activation, Dense, Flatten, BatchNormalization, Conv2D, MaxPool2D\n",
    "from tensorflow.keras.optimizers import Adam, RMSprop\n",
    "from tensorflow.keras.callbacks import EarlyStopping\n",
    "from tensorflow.keras.metrics import categorical_crossentropy\n",
    "from tensorflow.keras.losses import SparseCategoricalCrossentropy\n",
    "from tensorflow.keras.preprocessing.image import ImageDataGenerator\n",
    "from tensorflow.keras.applications.mobilenet_v2 import preprocess_input\n",
    "import tensorflow_addons as tfa\n",
    "\n",
    "from sklearn.metrics import confusion_matrix\n",
    "from matplotlib import pyplot as plt\n",
    "import cv2\n",
    "import itertools\n",
    "import os\n",
    "import shutil\n",
    "import glob\n",
    "import random\n",
    "import matplotlib.pyplot as plt\n",
    "import warnings\n",
    "\n",
    "warnings.simplefilter(action=\"ignore\", category=FutureWarning)\n",
    "%matplotlib inline\n",
    "\n",
    "\n",
    "# checking if GPU is enabled in Kaggle notebook/available\n",
    "hardware_list = tf.config.list_physical_devices(\n",
    "    device_type=None\n",
    ")\n",
    "\n",
    "print(hardware_list)\n",
    "\n",
    "gpu_test = tf.test.is_gpu_available(\n",
    "    cuda_only=False, min_cuda_compute_capability=None\n",
    ")\n",
    "print(\"GPU Available:\", gpu_test)"
   ]
  },
  {
   "cell_type": "markdown",
   "metadata": {
    "papermill": {
     "duration": 0.029352,
     "end_time": "2021-02-22T16:49:37.916384",
     "exception": false,
     "start_time": "2021-02-22T16:49:37.887032",
     "status": "completed"
    },
    "tags": []
   },
   "source": [
    "# EDA"
   ]
  },
  {
   "cell_type": "code",
   "execution_count": 2,
   "metadata": {
    "collapsed": true,
    "execution": {
     "iopub.execute_input": "2021-02-22T16:49:37.982065Z",
     "iopub.status.busy": "2021-02-22T16:49:37.981446Z",
     "iopub.status.idle": "2021-02-22T16:49:38.302890Z",
     "shell.execute_reply": "2021-02-22T16:49:38.303418Z"
    },
    "papermill": {
     "duration": 0.356622,
     "end_time": "2021-02-22T16:49:38.303595",
     "exception": false,
     "start_time": "2021-02-22T16:49:37.946973",
     "status": "completed"
    },
    "tags": []
   },
   "outputs": [
    {
     "data": {
      "text/plain": [
       "'\\nNUMBER OF FILES IN EACH CLASS\\n\\n0 - 25810\\n1 - 2443\\n2 - 5294\\n3 - 873\\n4 - 708\\n'"
      ]
     },
     "execution_count": 2,
     "metadata": {},
     "output_type": "execute_result"
    }
   ],
   "source": [
    "# checking how many files/samples are in each class\n",
    "path = '../input/diabetic-retinopathy-resized-arranged/4'\n",
    "num_files = len([f for f in os.listdir(path)\n",
    "                if os.path.isfile(os.path.join(path, f))])\n",
    "# print(num_files)\n",
    "\n",
    "\"\"\"\n",
    "NUMBER OF FILES IN EACH CLASS\n",
    "\n",
    "0 - 25810\n",
    "1 - 2443\n",
    "2 - 5294\n",
    "3 - 873\n",
    "4 - 708\n",
    "\"\"\""
   ]
  },
  {
   "cell_type": "markdown",
   "metadata": {
    "papermill": {
     "duration": 0.030075,
     "end_time": "2021-02-22T16:49:38.363775",
     "exception": false,
     "start_time": "2021-02-22T16:49:38.333700",
     "status": "completed"
    },
    "tags": []
   },
   "source": [
    "* cannot do percentage splits to make training/valid/test sets because the original dataset is imbalanced\n",
    "    * will be dominated by class 0 instances in all sets\\\n",
    "* resort to fixed sizes"
   ]
  },
  {
   "cell_type": "markdown",
   "metadata": {
    "papermill": {
     "duration": 0.030052,
     "end_time": "2021-02-22T16:49:38.423957",
     "exception": false,
     "start_time": "2021-02-22T16:49:38.393905",
     "status": "completed"
    },
    "tags": []
   },
   "source": [
    "# Creating train, test, and validation sets + Preprocessing"
   ]
  },
  {
   "cell_type": "code",
   "execution_count": 3,
   "metadata": {
    "execution": {
     "iopub.execute_input": "2021-02-22T16:49:38.492939Z",
     "iopub.status.busy": "2021-02-22T16:49:38.490970Z",
     "iopub.status.idle": "2021-02-22T16:49:38.493676Z",
     "shell.execute_reply": "2021-02-22T16:49:38.494170Z"
    },
    "papermill": {
     "duration": 0.039949,
     "end_time": "2021-02-22T16:49:38.494334",
     "exception": false,
     "start_time": "2021-02-22T16:49:38.454385",
     "status": "completed"
    },
    "tags": []
   },
   "outputs": [],
   "source": [
    "# PREPROCESSING PARAMS\n",
    "TRAIN_SIZE = 700\n",
    "TEST_SIZE = 700\n",
    "VALID_SIZE = 700"
   ]
  },
  {
   "cell_type": "code",
   "execution_count": 4,
   "metadata": {
    "execution": {
     "iopub.execute_input": "2021-02-22T16:49:38.573073Z",
     "iopub.status.busy": "2021-02-22T16:49:38.572265Z",
     "iopub.status.idle": "2021-02-22T16:50:43.226610Z",
     "shell.execute_reply": "2021-02-22T16:50:43.225525Z"
    },
    "papermill": {
     "duration": 64.699574,
     "end_time": "2021-02-22T16:50:43.226779",
     "exception": false,
     "start_time": "2021-02-22T16:49:38.527205",
     "status": "completed"
    },
    "tags": []
   },
   "outputs": [],
   "source": [
    "\"\"\"\n",
    "- creating the different sets with respective percentages\n",
    "- NOTE: dataset is imbalanced, used a fixed size of 700 for each set\n",
    "\"\"\"\n",
    "\n",
    "original_data_path = \"../input/diabetic-retinopathy-resized-arranged\"\n",
    "# train_pct = 0.7\n",
    "# test_pct = 0.1\n",
    "# valid_pct = 0.2\n",
    "\n",
    "os.chdir(\"./\")\n",
    "if os.path.isdir(\"train/0\") is False:\n",
    "    # create folders for the sets\n",
    "    os.mkdir(\"./train\")\n",
    "    os.mkdir(\"./test\")\n",
    "    os.mkdir(\"./valid\")\n",
    "    \n",
    "    # move X number of instances from original set, to respective sets\n",
    "    for i in range(0, 5):\n",
    "        # path to inputs with different classes\n",
    "        num_folder_path = f'{original_data_path}/{i}' \n",
    "        num_files_in_folder = len(os.listdir(num_folder_path))\n",
    "#         train_size = int(num_files_in_folder * train_pct)\n",
    "#         test_size = int(num_files_in_folder * test_pct)\n",
    "#         valid_size = int(num_files_in_folder * valid_pct)\n",
    "        train_size = TRAIN_SIZE\n",
    "        test_size = TEST_SIZE\n",
    "        valid_size = VALID_SIZE\n",
    "        \n",
    "        # make classes within set\n",
    "        os.mkdir(f'train/{i}')\n",
    "        os.mkdir(f'test/{i}')\n",
    "        os.mkdir(f'valid/{i}')\n",
    "        \n",
    "        test_samples = random.sample(os.listdir(num_folder_path), test_size)\n",
    "        for file_name in test_samples:\n",
    "            shutil.copy((f\"../input/diabetic-retinopathy-resized-arranged/{i}/{file_name}\"), f'./test/{i}')\n",
    "\n",
    "        train_samples = random.sample(os.listdir(num_folder_path), train_size)\n",
    "        for file_name in train_samples:\n",
    "            shutil.copy((f\"../input/diabetic-retinopathy-resized-arranged/{i}/{file_name}\"), f'./train/{i}')\n",
    "            \n",
    "        valid_samples = random.sample(os.listdir(num_folder_path), valid_size)\n",
    "        for file_name in valid_samples:\n",
    "            shutil.copy((f\"../input/diabetic-retinopathy-resized-arranged/{i}/{file_name}\"), f'./valid/{i}')\n",
    "        "
   ]
  },
  {
   "cell_type": "markdown",
   "metadata": {
    "papermill": {
     "duration": 0.030651,
     "end_time": "2021-02-22T16:50:43.289229",
     "exception": false,
     "start_time": "2021-02-22T16:50:43.258578",
     "status": "completed"
    },
    "tags": []
   },
   "source": [
    "## preprocessing functions"
   ]
  },
  {
   "cell_type": "code",
   "execution_count": 5,
   "metadata": {
    "execution": {
     "iopub.execute_input": "2021-02-22T16:50:43.357967Z",
     "iopub.status.busy": "2021-02-22T16:50:43.356048Z",
     "iopub.status.idle": "2021-02-22T16:50:43.358720Z",
     "shell.execute_reply": "2021-02-22T16:50:43.359220Z"
    },
    "papermill": {
     "duration": 0.039296,
     "end_time": "2021-02-22T16:50:43.359391",
     "exception": false,
     "start_time": "2021-02-22T16:50:43.320095",
     "status": "completed"
    },
    "tags": []
   },
   "outputs": [],
   "source": [
    "# train,test, and valid set paths\n",
    "TRAIN_PATH = \"./train\"\n",
    "TEST_PATH = \"./test\"\n",
    "VALID_PATH = \"./valid\""
   ]
  },
  {
   "cell_type": "code",
   "execution_count": 6,
   "metadata": {
    "execution": {
     "iopub.execute_input": "2021-02-22T16:50:43.426430Z",
     "iopub.status.busy": "2021-02-22T16:50:43.425006Z",
     "iopub.status.idle": "2021-02-22T16:50:43.427028Z",
     "shell.execute_reply": "2021-02-22T16:50:43.428018Z"
    },
    "papermill": {
     "duration": 0.037213,
     "end_time": "2021-02-22T16:50:43.428158",
     "exception": false,
     "start_time": "2021-02-22T16:50:43.390945",
     "status": "completed"
    },
    "tags": []
   },
   "outputs": [],
   "source": [
    "# preprocessing/augmentation for ImageDataGenerator\n",
    "def preprocesser(image):\n",
    "    image= tf.image.adjust_contrast(image, 0.6)\n",
    "    image = tfa.image.equalize(image)\n",
    "    image = tf.image.rgb_to_grayscale(image)\n",
    "    return image"
   ]
  },
  {
   "cell_type": "code",
   "execution_count": 7,
   "metadata": {
    "execution": {
     "iopub.execute_input": "2021-02-22T16:50:43.495125Z",
     "iopub.status.busy": "2021-02-22T16:50:43.494553Z",
     "iopub.status.idle": "2021-02-22T16:50:44.150208Z",
     "shell.execute_reply": "2021-02-22T16:50:44.150963Z"
    },
    "papermill": {
     "duration": 0.693172,
     "end_time": "2021-02-22T16:50:44.151197",
     "exception": false,
     "start_time": "2021-02-22T16:50:43.458025",
     "status": "completed"
    },
    "tags": []
   },
   "outputs": [
    {
     "name": "stdout",
     "output_type": "stream",
     "text": [
      "Found 3500 images belonging to 5 classes.\n",
      "Found 3500 images belonging to 5 classes.\n",
      "Found 3500 images belonging to 5 classes.\n"
     ]
    }
   ],
   "source": [
    "# generating sets\n",
    "PREPROCESSING_FUNC = preprocesser\n",
    "CLASS_MODE = \"categorical\"\n",
    "BATCH_SIZE = 32\n",
    "\n",
    "train_batches = ImageDataGenerator(preprocessing_function = PREPROCESSING_FUNC, rescale=1./255, horizontal_flip=True).flow_from_directory(directory = TRAIN_PATH, target_size = (224,224), batch_size = BATCH_SIZE, class_mode=CLASS_MODE)\n",
    "test_batches = ImageDataGenerator(preprocessing_function = PREPROCESSING_FUNC, rescale=1./255).flow_from_directory(directory = TEST_PATH, target_size = (224,224), batch_size = BATCH_SIZE, class_mode=CLASS_MODE, shuffle=False)\n",
    "valid_batches = ImageDataGenerator(preprocessing_function = PREPROCESSING_FUNC, rescale=1./255).flow_from_directory(directory = VALID_PATH, target_size = (224,224), batch_size = BATCH_SIZE, shuffle = False, class_mode=CLASS_MODE)"
   ]
  },
  {
   "cell_type": "code",
   "execution_count": 8,
   "metadata": {
    "execution": {
     "iopub.execute_input": "2021-02-22T16:50:44.228248Z",
     "iopub.status.busy": "2021-02-22T16:50:44.227547Z",
     "iopub.status.idle": "2021-02-22T16:50:44.231069Z",
     "shell.execute_reply": "2021-02-22T16:50:44.231565Z"
    },
    "papermill": {
     "duration": 0.043731,
     "end_time": "2021-02-22T16:50:44.231718",
     "exception": false,
     "start_time": "2021-02-22T16:50:44.187987",
     "status": "completed"
    },
    "tags": []
   },
   "outputs": [
    {
     "data": {
      "text/plain": [
       "array([0, 0, 0, ..., 4, 4, 4], dtype=int32)"
      ]
     },
     "execution_count": 8,
     "metadata": {},
     "output_type": "execute_result"
    }
   ],
   "source": [
    "# checking if ImageDataGenerator assigned proper labels\n",
    "train_batches.labels"
   ]
  },
  {
   "cell_type": "code",
   "execution_count": 9,
   "metadata": {
    "execution": {
     "iopub.execute_input": "2021-02-22T16:50:44.319107Z",
     "iopub.status.busy": "2021-02-22T16:50:44.310018Z",
     "iopub.status.idle": "2021-02-22T16:50:48.024072Z",
     "shell.execute_reply": "2021-02-22T16:50:48.023570Z"
    },
    "papermill": {
     "duration": 3.760271,
     "end_time": "2021-02-22T16:50:48.024211",
     "exception": false,
     "start_time": "2021-02-22T16:50:44.263940",
     "status": "completed"
    },
    "tags": []
   },
   "outputs": [
    {
     "name": "stdout",
     "output_type": "stream",
     "text": [
      "(224, 224, 3)\n",
      "(224, 224, 3)\n",
      "(224, 224, 3)\n"
     ]
    },
    {
     "data": {
      "text/plain": [
       "<Figure size 432x288 with 0 Axes>"
      ]
     },
     "metadata": {},
     "output_type": "display_data"
    },
    {
     "data": {
      "image/png": "[encoded data removed]",
      "text/plain": [
       "<Figure size 432x288 with 3 Axes>"
      ]
     },
     "metadata": {
      "needs_background": "light"
     },
     "output_type": "display_data"
    }
   ],
   "source": [
    "# what the inputs/images look like after augmentation\n",
    "\n",
    "plt.figure()\n",
    "f, axarr = plt.subplots(1,3)\n",
    "for i in range (0,3):\n",
    "    random_num = random.randint(0,100)\n",
    "    image = train_batches[random_num]\n",
    "    axarr[i].imshow(image[0][0])\n",
    "    print(np.shape(image[0][0])) # 224x224x3, needed to put into MobileNetV2"
   ]
  },
  {
   "cell_type": "markdown",
   "metadata": {
    "papermill": {
     "duration": 0.039816,
     "end_time": "2021-02-22T16:50:48.099836",
     "exception": false,
     "start_time": "2021-02-22T16:50:48.060020",
     "status": "completed"
    },
    "tags": []
   },
   "source": [
    "# Model Building"
   ]
  },
  {
   "cell_type": "markdown",
   "metadata": {
    "papermill": {
     "duration": 0.039575,
     "end_time": "2021-02-22T16:50:48.205427",
     "exception": false,
     "start_time": "2021-02-22T16:50:48.165852",
     "status": "completed"
    },
    "tags": []
   },
   "source": [
    "## FIRST PASS/TRANSFER LEARNING"
   ]
  },
  {
   "cell_type": "code",
   "execution_count": 10,
   "metadata": {
    "execution": {
     "iopub.execute_input": "2021-02-22T16:50:48.288146Z",
     "iopub.status.busy": "2021-02-22T16:50:48.287237Z",
     "iopub.status.idle": "2021-02-22T16:50:48.290668Z",
     "shell.execute_reply": "2021-02-22T16:50:48.290011Z"
    },
    "papermill": {
     "duration": 0.048147,
     "end_time": "2021-02-22T16:50:48.290821",
     "exception": false,
     "start_time": "2021-02-22T16:50:48.242674",
     "status": "completed"
    },
    "tags": []
   },
   "outputs": [],
   "source": [
    "# MODEL PARAMS - change here\n",
    "NUM_EPOCH = 50\n",
    "LEARNING_RATE = 0.001\n",
    "FREEZE_LAYERS = -6\n",
    "LOSS_FUNC = \"categorical_crossentropy\"\n",
    "TRAIL_NUM = 1\n",
    "SECOND_PASS = False # change to True when fine tuning after training new output layer\n",
    "PATIENCE = 25"
   ]
  },
  {
   "cell_type": "code",
   "execution_count": 11,
   "metadata": {
    "execution": {
     "iopub.execute_input": "2021-02-22T16:50:48.378315Z",
     "iopub.status.busy": "2021-02-22T16:50:48.377619Z",
     "iopub.status.idle": "2021-02-22T16:50:49.825245Z",
     "shell.execute_reply": "2021-02-22T16:50:49.824433Z"
    },
    "papermill": {
     "duration": 1.496379,
     "end_time": "2021-02-22T16:50:49.825463",
     "exception": false,
     "start_time": "2021-02-22T16:50:48.329084",
     "status": "completed"
    },
    "tags": []
   },
   "outputs": [
    {
     "name": "stdout",
     "output_type": "stream",
     "text": [
      "Downloading data from https://storage.googleapis.com/tensorflow/keras-applications/mobilenet_v2/mobilenet_v2_weights_tf_dim_ordering_tf_kernels_1.0_224_no_top.h5\n",
      "9412608/9406464 [==============================] - 0s 0us/step\n",
      "Model: \"mobilenetv2_1.00_224\"\n",
      "__________________________________________________________________________________________________\n",
      "Layer (type)                    Output Shape         Param #     Connected to                     \n",
      "==================================================================================================\n",
      "input_1 (InputLayer)            [(None, 224, 224, 3) 0                                            \n",
      "__________________________________________________________________________________________________\n",
      "Conv1 (Conv2D)                  (None, 112, 112, 32) 864         input_1[0][0]                    \n",
      "__________________________________________________________________________________________________\n",
      "bn_Conv1 (BatchNormalization)   (None, 112, 112, 32) 128         Conv1[0][0]                      \n",
      "__________________________________________________________________________________________________\n",
      "Conv1_relu (ReLU)               (None, 112, 112, 32) 0           bn_Conv1[0][0]                   \n",
      "__________________________________________________________________________________________________\n",
      "expanded_conv_depthwise (Depthw (None, 112, 112, 32) 288         Conv1_relu[0][0]                 \n",
      "__________________________________________________________________________________________________\n",
      "expanded_conv_depthwise_BN (Bat (None, 112, 112, 32) 128         expanded_conv_depthwise[0][0]    \n",
      "__________________________________________________________________________________________________\n",
      "expanded_conv_depthwise_relu (R (None, 112, 112, 32) 0           expanded_conv_depthwise_BN[0][0] \n",
      "__________________________________________________________________________________________________\n",
      "expanded_conv_project (Conv2D)  (None, 112, 112, 16) 512         expanded_conv_depthwise_relu[0][0\n",
      "__________________________________________________________________________________________________\n",
      "expanded_conv_project_BN (Batch (None, 112, 112, 16) 64          expanded_conv_project[0][0]      \n",
      "__________________________________________________________________________________________________\n",
      "block_1_expand (Conv2D)         (None, 112, 112, 96) 1536        expanded_conv_project_BN[0][0]   \n",
      "__________________________________________________________________________________________________\n",
      "block_1_expand_BN (BatchNormali (None, 112, 112, 96) 384         block_1_expand[0][0]             \n",
      "__________________________________________________________________________________________________\n",
      "block_1_expand_relu (ReLU)      (None, 112, 112, 96) 0           block_1_expand_BN[0][0]          \n",
      "__________________________________________________________________________________________________\n",
      "block_1_pad (ZeroPadding2D)     (None, 113, 113, 96) 0           block_1_expand_relu[0][0]        \n",
      "__________________________________________________________________________________________________\n",
      "block_1_depthwise (DepthwiseCon (None, 56, 56, 96)   864         block_1_pad[0][0]                \n",
      "__________________________________________________________________________________________________\n",
      "block_1_depthwise_BN (BatchNorm (None, 56, 56, 96)   384         block_1_depthwise[0][0]          \n",
      "__________________________________________________________________________________________________\n",
      "block_1_depthwise_relu (ReLU)   (None, 56, 56, 96)   0           block_1_depthwise_BN[0][0]       \n",
      "__________________________________________________________________________________________________\n",
      "block_1_project (Conv2D)        (None, 56, 56, 24)   2304        block_1_depthwise_relu[0][0]     \n",
      "__________________________________________________________________________________________________\n",
      "block_1_project_BN (BatchNormal (None, 56, 56, 24)   96          block_1_project[0][0]            \n",
      "__________________________________________________________________________________________________\n",
      "block_2_expand (Conv2D)         (None, 56, 56, 144)  3456        block_1_project_BN[0][0]         \n",
      "__________________________________________________________________________________________________\n",
      "block_2_expand_BN (BatchNormali (None, 56, 56, 144)  576         block_2_expand[0][0]             \n",
      "__________________________________________________________________________________________________\n",
      "block_2_expand_relu (ReLU)      (None, 56, 56, 144)  0           block_2_expand_BN[0][0]          \n",
      "__________________________________________________________________________________________________\n",
      "block_2_depthwise (DepthwiseCon (None, 56, 56, 144)  1296        block_2_expand_relu[0][0]        \n",
      "__________________________________________________________________________________________________\n",
      "block_2_depthwise_BN (BatchNorm (None, 56, 56, 144)  576         block_2_depthwise[0][0]          \n",
      "__________________________________________________________________________________________________\n",
      "block_2_depthwise_relu (ReLU)   (None, 56, 56, 144)  0           block_2_depthwise_BN[0][0]       \n",
      "__________________________________________________________________________________________________\n",
      "block_2_project (Conv2D)        (None, 56, 56, 24)   3456        block_2_depthwise_relu[0][0]     \n",
      "__________________________________________________________________________________________________\n",
      "block_2_project_BN (BatchNormal (None, 56, 56, 24)   96          block_2_project[0][0]            \n",
      "__________________________________________________________________________________________________\n",
      "block_2_add (Add)               (None, 56, 56, 24)   0           block_1_project_BN[0][0]         \n",
      "                                                                 block_2_project_BN[0][0]         \n",
      "__________________________________________________________________________________________________\n",
      "block_3_expand (Conv2D)         (None, 56, 56, 144)  3456        block_2_add[0][0]                \n",
      "__________________________________________________________________________________________________\n",
      "block_3_expand_BN (BatchNormali (None, 56, 56, 144)  576         block_3_expand[0][0]             \n",
      "__________________________________________________________________________________________________\n",
      "block_3_expand_relu (ReLU)      (None, 56, 56, 144)  0           block_3_expand_BN[0][0]          \n",
      "__________________________________________________________________________________________________\n",
      "block_3_pad (ZeroPadding2D)     (None, 57, 57, 144)  0           block_3_expand_relu[0][0]        \n",
      "__________________________________________________________________________________________________\n",
      "block_3_depthwise (DepthwiseCon (None, 28, 28, 144)  1296        block_3_pad[0][0]                \n",
      "__________________________________________________________________________________________________\n",
      "block_3_depthwise_BN (BatchNorm (None, 28, 28, 144)  576         block_3_depthwise[0][0]          \n",
      "__________________________________________________________________________________________________\n",
      "block_3_depthwise_relu (ReLU)   (None, 28, 28, 144)  0           block_3_depthwise_BN[0][0]       \n",
      "__________________________________________________________________________________________________\n",
      "block_3_project (Conv2D)        (None, 28, 28, 32)   4608        block_3_depthwise_relu[0][0]     \n",
      "__________________________________________________________________________________________________\n",
      "block_3_project_BN (BatchNormal (None, 28, 28, 32)   128         block_3_project[0][0]            \n",
      "__________________________________________________________________________________________________\n",
      "block_4_expand (Conv2D)         (None, 28, 28, 192)  6144        block_3_project_BN[0][0]         \n",
      "__________________________________________________________________________________________________\n",
      "block_4_expand_BN (BatchNormali (None, 28, 28, 192)  768         block_4_expand[0][0]             \n",
      "__________________________________________________________________________________________________\n",
      "block_4_expand_relu (ReLU)      (None, 28, 28, 192)  0           block_4_expand_BN[0][0]          \n",
      "__________________________________________________________________________________________________\n",
      "block_4_depthwise (DepthwiseCon (None, 28, 28, 192)  1728        block_4_expand_relu[0][0]        \n",
      "__________________________________________________________________________________________________\n",
      "block_4_depthwise_BN (BatchNorm (None, 28, 28, 192)  768         block_4_depthwise[0][0]          \n",
      "__________________________________________________________________________________________________\n",
      "block_4_depthwise_relu (ReLU)   (None, 28, 28, 192)  0           block_4_depthwise_BN[0][0]       \n",
      "__________________________________________________________________________________________________\n",
      "block_4_project (Conv2D)        (None, 28, 28, 32)   6144        block_4_depthwise_relu[0][0]     \n",
      "__________________________________________________________________________________________________\n",
      "block_4_project_BN (BatchNormal (None, 28, 28, 32)   128         block_4_project[0][0]            \n",
      "__________________________________________________________________________________________________\n",
      "block_4_add (Add)               (None, 28, 28, 32)   0           block_3_project_BN[0][0]         \n",
      "                                                                 block_4_project_BN[0][0]         \n",
      "__________________________________________________________________________________________________\n",
      "block_5_expand (Conv2D)         (None, 28, 28, 192)  6144        block_4_add[0][0]                \n",
      "__________________________________________________________________________________________________\n",
      "block_5_expand_BN (BatchNormali (None, 28, 28, 192)  768         block_5_expand[0][0]             \n",
      "__________________________________________________________________________________________________\n",
      "block_5_expand_relu (ReLU)      (None, 28, 28, 192)  0           block_5_expand_BN[0][0]          \n",
      "__________________________________________________________________________________________________\n",
      "block_5_depthwise (DepthwiseCon (None, 28, 28, 192)  1728        block_5_expand_relu[0][0]        \n",
      "__________________________________________________________________________________________________\n",
      "block_5_depthwise_BN (BatchNorm (None, 28, 28, 192)  768         block_5_depthwise[0][0]          \n",
      "__________________________________________________________________________________________________\n",
      "block_5_depthwise_relu (ReLU)   (None, 28, 28, 192)  0           block_5_depthwise_BN[0][0]       \n",
      "__________________________________________________________________________________________________\n",
      "block_5_project (Conv2D)        (None, 28, 28, 32)   6144        block_5_depthwise_relu[0][0]     \n",
      "__________________________________________________________________________________________________\n",
      "block_5_project_BN (BatchNormal (None, 28, 28, 32)   128         block_5_project[0][0]            \n",
      "__________________________________________________________________________________________________\n",
      "block_5_add (Add)               (None, 28, 28, 32)   0           block_4_add[0][0]                \n",
      "                                                                 block_5_project_BN[0][0]         \n",
      "__________________________________________________________________________________________________\n",
      "block_6_expand (Conv2D)         (None, 28, 28, 192)  6144        block_5_add[0][0]                \n",
      "__________________________________________________________________________________________________\n",
      "block_6_expand_BN (BatchNormali (None, 28, 28, 192)  768         block_6_expand[0][0]             \n",
      "__________________________________________________________________________________________________\n",
      "block_6_expand_relu (ReLU)      (None, 28, 28, 192)  0           block_6_expand_BN[0][0]          \n",
      "__________________________________________________________________________________________________\n",
      "block_6_pad (ZeroPadding2D)     (None, 29, 29, 192)  0           block_6_expand_relu[0][0]        \n",
      "__________________________________________________________________________________________________\n",
      "block_6_depthwise (DepthwiseCon (None, 14, 14, 192)  1728        block_6_pad[0][0]                \n",
      "__________________________________________________________________________________________________\n",
      "block_6_depthwise_BN (BatchNorm (None, 14, 14, 192)  768         block_6_depthwise[0][0]          \n",
      "__________________________________________________________________________________________________\n",
      "block_6_depthwise_relu (ReLU)   (None, 14, 14, 192)  0           block_6_depthwise_BN[0][0]       \n",
      "__________________________________________________________________________________________________\n",
      "block_6_project (Conv2D)        (None, 14, 14, 64)   12288       block_6_depthwise_relu[0][0]     \n",
      "__________________________________________________________________________________________________\n",
      "block_6_project_BN (BatchNormal (None, 14, 14, 64)   256         block_6_project[0][0]            \n",
      "__________________________________________________________________________________________________\n",
      "block_7_expand (Conv2D)         (None, 14, 14, 384)  24576       block_6_project_BN[0][0]         \n",
      "__________________________________________________________________________________________________\n",
      "block_7_expand_BN (BatchNormali (None, 14, 14, 384)  1536        block_7_expand[0][0]             \n",
      "__________________________________________________________________________________________________\n",
      "block_7_expand_relu (ReLU)      (None, 14, 14, 384)  0           block_7_expand_BN[0][0]          \n",
      "__________________________________________________________________________________________________\n",
      "block_7_depthwise (DepthwiseCon (None, 14, 14, 384)  3456        block_7_expand_relu[0][0]        \n",
      "__________________________________________________________________________________________________\n",
      "block_7_depthwise_BN (BatchNorm (None, 14, 14, 384)  1536        block_7_depthwise[0][0]          \n",
      "__________________________________________________________________________________________________\n",
      "block_7_depthwise_relu (ReLU)   (None, 14, 14, 384)  0           block_7_depthwise_BN[0][0]       \n",
      "__________________________________________________________________________________________________\n",
      "block_7_project (Conv2D)        (None, 14, 14, 64)   24576       block_7_depthwise_relu[0][0]     \n",
      "__________________________________________________________________________________________________\n",
      "block_7_project_BN (BatchNormal (None, 14, 14, 64)   256         block_7_project[0][0]            \n",
      "__________________________________________________________________________________________________\n",
      "block_7_add (Add)               (None, 14, 14, 64)   0           block_6_project_BN[0][0]         \n",
      "                                                                 block_7_project_BN[0][0]         \n",
      "__________________________________________________________________________________________________\n",
      "block_8_expand (Conv2D)         (None, 14, 14, 384)  24576       block_7_add[0][0]                \n",
      "__________________________________________________________________________________________________\n",
      "block_8_expand_BN (BatchNormali (None, 14, 14, 384)  1536        block_8_expand[0][0]             \n",
      "__________________________________________________________________________________________________\n",
      "block_8_expand_relu (ReLU)      (None, 14, 14, 384)  0           block_8_expand_BN[0][0]          \n",
      "__________________________________________________________________________________________________\n",
      "block_8_depthwise (DepthwiseCon (None, 14, 14, 384)  3456        block_8_expand_relu[0][0]        \n",
      "__________________________________________________________________________________________________\n",
      "block_8_depthwise_BN (BatchNorm (None, 14, 14, 384)  1536        block_8_depthwise[0][0]          \n",
      "__________________________________________________________________________________________________\n",
      "block_8_depthwise_relu (ReLU)   (None, 14, 14, 384)  0           block_8_depthwise_BN[0][0]       \n",
      "__________________________________________________________________________________________________\n",
      "block_8_project (Conv2D)        (None, 14, 14, 64)   24576       block_8_depthwise_relu[0][0]     \n",
      "__________________________________________________________________________________________________\n",
      "block_8_project_BN (BatchNormal (None, 14, 14, 64)   256         block_8_project[0][0]            \n",
      "__________________________________________________________________________________________________\n",
      "block_8_add (Add)               (None, 14, 14, 64)   0           block_7_add[0][0]                \n",
      "                                                                 block_8_project_BN[0][0]         \n",
      "__________________________________________________________________________________________________\n",
      "block_9_expand (Conv2D)         (None, 14, 14, 384)  24576       block_8_add[0][0]                \n",
      "__________________________________________________________________________________________________\n",
      "block_9_expand_BN (BatchNormali (None, 14, 14, 384)  1536        block_9_expand[0][0]             \n",
      "__________________________________________________________________________________________________\n",
      "block_9_expand_relu (ReLU)      (None, 14, 14, 384)  0           block_9_expand_BN[0][0]          \n",
      "__________________________________________________________________________________________________\n",
      "block_9_depthwise (DepthwiseCon (None, 14, 14, 384)  3456        block_9_expand_relu[0][0]        \n",
      "__________________________________________________________________________________________________\n",
      "block_9_depthwise_BN (BatchNorm (None, 14, 14, 384)  1536        block_9_depthwise[0][0]          \n",
      "__________________________________________________________________________________________________\n",
      "block_9_depthwise_relu (ReLU)   (None, 14, 14, 384)  0           block_9_depthwise_BN[0][0]       \n",
      "__________________________________________________________________________________________________\n",
      "block_9_project (Conv2D)        (None, 14, 14, 64)   24576       block_9_depthwise_relu[0][0]     \n",
      "__________________________________________________________________________________________________\n",
      "block_9_project_BN (BatchNormal (None, 14, 14, 64)   256         block_9_project[0][0]            \n",
      "__________________________________________________________________________________________________\n",
      "block_9_add (Add)               (None, 14, 14, 64)   0           block_8_add[0][0]                \n",
      "                                                                 block_9_project_BN[0][0]         \n",
      "__________________________________________________________________________________________________\n",
      "block_10_expand (Conv2D)        (None, 14, 14, 384)  24576       block_9_add[0][0]                \n",
      "__________________________________________________________________________________________________\n",
      "block_10_expand_BN (BatchNormal (None, 14, 14, 384)  1536        block_10_expand[0][0]            \n",
      "__________________________________________________________________________________________________\n",
      "block_10_expand_relu (ReLU)     (None, 14, 14, 384)  0           block_10_expand_BN[0][0]         \n",
      "__________________________________________________________________________________________________\n",
      "block_10_depthwise (DepthwiseCo (None, 14, 14, 384)  3456        block_10_expand_relu[0][0]       \n",
      "__________________________________________________________________________________________________\n",
      "block_10_depthwise_BN (BatchNor (None, 14, 14, 384)  1536        block_10_depthwise[0][0]         \n",
      "__________________________________________________________________________________________________\n",
      "block_10_depthwise_relu (ReLU)  (None, 14, 14, 384)  0           block_10_depthwise_BN[0][0]      \n",
      "__________________________________________________________________________________________________\n",
      "block_10_project (Conv2D)       (None, 14, 14, 96)   36864       block_10_depthwise_relu[0][0]    \n",
      "__________________________________________________________________________________________________\n",
      "block_10_project_BN (BatchNorma (None, 14, 14, 96)   384         block_10_project[0][0]           \n",
      "__________________________________________________________________________________________________\n",
      "block_11_expand (Conv2D)        (None, 14, 14, 576)  55296       block_10_project_BN[0][0]        \n",
      "__________________________________________________________________________________________________\n",
      "block_11_expand_BN (BatchNormal (None, 14, 14, 576)  2304        block_11_expand[0][0]            \n",
      "__________________________________________________________________________________________________\n",
      "block_11_expand_relu (ReLU)     (None, 14, 14, 576)  0           block_11_expand_BN[0][0]         \n",
      "__________________________________________________________________________________________________\n",
      "block_11_depthwise (DepthwiseCo (None, 14, 14, 576)  5184        block_11_expand_relu[0][0]       \n",
      "__________________________________________________________________________________________________\n",
      "block_11_depthwise_BN (BatchNor (None, 14, 14, 576)  2304        block_11_depthwise[0][0]         \n",
      "__________________________________________________________________________________________________\n",
      "block_11_depthwise_relu (ReLU)  (None, 14, 14, 576)  0           block_11_depthwise_BN[0][0]      \n",
      "__________________________________________________________________________________________________\n",
      "block_11_project (Conv2D)       (None, 14, 14, 96)   55296       block_11_depthwise_relu[0][0]    \n",
      "__________________________________________________________________________________________________\n",
      "block_11_project_BN (BatchNorma (None, 14, 14, 96)   384         block_11_project[0][0]           \n",
      "__________________________________________________________________________________________________\n",
      "block_11_add (Add)              (None, 14, 14, 96)   0           block_10_project_BN[0][0]        \n",
      "                                                                 block_11_project_BN[0][0]        \n",
      "__________________________________________________________________________________________________\n",
      "block_12_expand (Conv2D)        (None, 14, 14, 576)  55296       block_11_add[0][0]               \n",
      "__________________________________________________________________________________________________\n",
      "block_12_expand_BN (BatchNormal (None, 14, 14, 576)  2304        block_12_expand[0][0]            \n",
      "__________________________________________________________________________________________________\n",
      "block_12_expand_relu (ReLU)     (None, 14, 14, 576)  0           block_12_expand_BN[0][0]         \n",
      "__________________________________________________________________________________________________\n",
      "block_12_depthwise (DepthwiseCo (None, 14, 14, 576)  5184        block_12_expand_relu[0][0]       \n",
      "__________________________________________________________________________________________________\n",
      "block_12_depthwise_BN (BatchNor (None, 14, 14, 576)  2304        block_12_depthwise[0][0]         \n",
      "__________________________________________________________________________________________________\n",
      "block_12_depthwise_relu (ReLU)  (None, 14, 14, 576)  0           block_12_depthwise_BN[0][0]      \n",
      "__________________________________________________________________________________________________\n",
      "block_12_project (Conv2D)       (None, 14, 14, 96)   55296       block_12_depthwise_relu[0][0]    \n",
      "__________________________________________________________________________________________________\n",
      "block_12_project_BN (BatchNorma (None, 14, 14, 96)   384         block_12_project[0][0]           \n",
      "__________________________________________________________________________________________________\n",
      "block_12_add (Add)              (None, 14, 14, 96)   0           block_11_add[0][0]               \n",
      "                                                                 block_12_project_BN[0][0]        \n",
      "__________________________________________________________________________________________________\n",
      "block_13_expand (Conv2D)        (None, 14, 14, 576)  55296       block_12_add[0][0]               \n",
      "__________________________________________________________________________________________________\n",
      "block_13_expand_BN (BatchNormal (None, 14, 14, 576)  2304        block_13_expand[0][0]            \n",
      "__________________________________________________________________________________________________\n",
      "block_13_expand_relu (ReLU)     (None, 14, 14, 576)  0           block_13_expand_BN[0][0]         \n",
      "__________________________________________________________________________________________________\n",
      "block_13_pad (ZeroPadding2D)    (None, 15, 15, 576)  0           block_13_expand_relu[0][0]       \n",
      "__________________________________________________________________________________________________\n",
      "block_13_depthwise (DepthwiseCo (None, 7, 7, 576)    5184        block_13_pad[0][0]               \n",
      "__________________________________________________________________________________________________\n",
      "block_13_depthwise_BN (BatchNor (None, 7, 7, 576)    2304        block_13_depthwise[0][0]         \n",
      "__________________________________________________________________________________________________\n",
      "block_13_depthwise_relu (ReLU)  (None, 7, 7, 576)    0           block_13_depthwise_BN[0][0]      \n",
      "__________________________________________________________________________________________________\n",
      "block_13_project (Conv2D)       (None, 7, 7, 160)    92160       block_13_depthwise_relu[0][0]    \n",
      "__________________________________________________________________________________________________\n",
      "block_13_project_BN (BatchNorma (None, 7, 7, 160)    640         block_13_project[0][0]           \n",
      "__________________________________________________________________________________________________\n",
      "block_14_expand (Conv2D)        (None, 7, 7, 960)    153600      block_13_project_BN[0][0]        \n",
      "__________________________________________________________________________________________________\n",
      "block_14_expand_BN (BatchNormal (None, 7, 7, 960)    3840        block_14_expand[0][0]            \n",
      "__________________________________________________________________________________________________\n",
      "block_14_expand_relu (ReLU)     (None, 7, 7, 960)    0           block_14_expand_BN[0][0]         \n",
      "__________________________________________________________________________________________________\n",
      "block_14_depthwise (DepthwiseCo (None, 7, 7, 960)    8640        block_14_expand_relu[0][0]       \n",
      "__________________________________________________________________________________________________\n",
      "block_14_depthwise_BN (BatchNor (None, 7, 7, 960)    3840        block_14_depthwise[0][0]         \n",
      "__________________________________________________________________________________________________\n",
      "block_14_depthwise_relu (ReLU)  (None, 7, 7, 960)    0           block_14_depthwise_BN[0][0]      \n",
      "__________________________________________________________________________________________________\n",
      "block_14_project (Conv2D)       (None, 7, 7, 160)    153600      block_14_depthwise_relu[0][0]    \n",
      "__________________________________________________________________________________________________\n",
      "block_14_project_BN (BatchNorma (None, 7, 7, 160)    640         block_14_project[0][0]           \n",
      "__________________________________________________________________________________________________\n",
      "block_14_add (Add)              (None, 7, 7, 160)    0           block_13_project_BN[0][0]        \n",
      "                                                                 block_14_project_BN[0][0]        \n",
      "__________________________________________________________________________________________________\n",
      "block_15_expand (Conv2D)        (None, 7, 7, 960)    153600      block_14_add[0][0]               \n",
      "__________________________________________________________________________________________________\n",
      "block_15_expand_BN (BatchNormal (None, 7, 7, 960)    3840        block_15_expand[0][0]            \n",
      "__________________________________________________________________________________________________\n",
      "block_15_expand_relu (ReLU)     (None, 7, 7, 960)    0           block_15_expand_BN[0][0]         \n",
      "__________________________________________________________________________________________________\n",
      "block_15_depthwise (DepthwiseCo (None, 7, 7, 960)    8640        block_15_expand_relu[0][0]       \n",
      "__________________________________________________________________________________________________\n",
      "block_15_depthwise_BN (BatchNor (None, 7, 7, 960)    3840        block_15_depthwise[0][0]         \n",
      "__________________________________________________________________________________________________\n",
      "block_15_depthwise_relu (ReLU)  (None, 7, 7, 960)    0           block_15_depthwise_BN[0][0]      \n",
      "__________________________________________________________________________________________________\n",
      "block_15_project (Conv2D)       (None, 7, 7, 160)    153600      block_15_depthwise_relu[0][0]    \n",
      "__________________________________________________________________________________________________\n",
      "block_15_project_BN (BatchNorma (None, 7, 7, 160)    640         block_15_project[0][0]           \n",
      "__________________________________________________________________________________________________\n",
      "block_15_add (Add)              (None, 7, 7, 160)    0           block_14_add[0][0]               \n",
      "                                                                 block_15_project_BN[0][0]        \n",
      "__________________________________________________________________________________________________\n",
      "block_16_expand (Conv2D)        (None, 7, 7, 960)    153600      block_15_add[0][0]               \n",
      "__________________________________________________________________________________________________\n",
      "block_16_expand_BN (BatchNormal (None, 7, 7, 960)    3840        block_16_expand[0][0]            \n",
      "__________________________________________________________________________________________________\n",
      "block_16_expand_relu (ReLU)     (None, 7, 7, 960)    0           block_16_expand_BN[0][0]         \n",
      "__________________________________________________________________________________________________\n",
      "block_16_depthwise (DepthwiseCo (None, 7, 7, 960)    8640        block_16_expand_relu[0][0]       \n",
      "__________________________________________________________________________________________________\n",
      "block_16_depthwise_BN (BatchNor (None, 7, 7, 960)    3840        block_16_depthwise[0][0]         \n",
      "__________________________________________________________________________________________________\n",
      "block_16_depthwise_relu (ReLU)  (None, 7, 7, 960)    0           block_16_depthwise_BN[0][0]      \n",
      "__________________________________________________________________________________________________\n",
      "block_16_project (Conv2D)       (None, 7, 7, 320)    307200      block_16_depthwise_relu[0][0]    \n",
      "__________________________________________________________________________________________________\n",
      "block_16_project_BN (BatchNorma (None, 7, 7, 320)    1280        block_16_project[0][0]           \n",
      "__________________________________________________________________________________________________\n",
      "Conv_1 (Conv2D)                 (None, 7, 7, 1280)   409600      block_16_project_BN[0][0]        \n",
      "__________________________________________________________________________________________________\n",
      "Conv_1_bn (BatchNormalization)  (None, 7, 7, 1280)   5120        Conv_1[0][0]                     \n",
      "__________________________________________________________________________________________________\n",
      "out_relu (ReLU)                 (None, 7, 7, 1280)   0           Conv_1_bn[0][0]                  \n",
      "==================================================================================================\n",
      "Total params: 2,257,984\n",
      "Trainable params: 2,223,872\n",
      "Non-trainable params: 34,112\n",
      "__________________________________________________________________________________________________\n"
     ]
    }
   ],
   "source": [
    "# importing MobileNetv2 - original, excluding the final/output layer\n",
    "model = tf.keras.applications.MobileNetV2(weights='imagenet', input_shape=(224,224,3), include_top=False)\n",
    "model.summary()"
   ]
  },
  {
   "cell_type": "code",
   "execution_count": 12,
   "metadata": {
    "execution": {
     "iopub.execute_input": "2021-02-22T16:50:49.918961Z",
     "iopub.status.busy": "2021-02-22T16:50:49.918394Z",
     "iopub.status.idle": "2021-02-22T16:50:49.923139Z",
     "shell.execute_reply": "2021-02-22T16:50:49.922576Z"
    },
    "papermill": {
     "duration": 0.050317,
     "end_time": "2021-02-22T16:50:49.923258",
     "exception": false,
     "start_time": "2021-02-22T16:50:49.872941",
     "status": "completed"
    },
    "tags": []
   },
   "outputs": [],
   "source": [
    "for layer in model.layers: # originally 23\n",
    "    layer.trainable = SECOND_PASS # should be False on first run "
   ]
  },
  {
   "cell_type": "code",
   "execution_count": 13,
   "metadata": {
    "execution": {
     "iopub.execute_input": "2021-02-22T16:50:50.004202Z",
     "iopub.status.busy": "2021-02-22T16:50:50.003385Z",
     "iopub.status.idle": "2021-02-22T16:50:50.016586Z",
     "shell.execute_reply": "2021-02-22T16:50:50.015778Z"
    },
    "papermill": {
     "duration": 0.055034,
     "end_time": "2021-02-22T16:50:50.016728",
     "exception": false,
     "start_time": "2021-02-22T16:50:49.961694",
     "status": "completed"
    },
    "tags": []
   },
   "outputs": [],
   "source": [
    "# adding new output layer to MobileNetV2, specific to our problem\n",
    "x = Flatten()(model.output)\n",
    "output = Dense(units=5, activation=\"softmax\")(x) # 5 units for, 1 for each class"
   ]
  },
  {
   "cell_type": "code",
   "execution_count": 14,
   "metadata": {
    "execution": {
     "iopub.execute_input": "2021-02-22T16:50:50.097416Z",
     "iopub.status.busy": "2021-02-22T16:50:50.096534Z",
     "iopub.status.idle": "2021-02-22T16:50:50.110315Z",
     "shell.execute_reply": "2021-02-22T16:50:50.110796Z"
    },
    "papermill": {
     "duration": 0.057251,
     "end_time": "2021-02-22T16:50:50.110956",
     "exception": false,
     "start_time": "2021-02-22T16:50:50.053705",
     "status": "completed"
    },
    "tags": []
   },
   "outputs": [],
   "source": [
    "model = Model(inputs = model.input, outputs = output)"
   ]
  },
  {
   "cell_type": "code",
   "execution_count": 15,
   "metadata": {
    "execution": {
     "iopub.execute_input": "2021-02-22T16:50:50.197783Z",
     "iopub.status.busy": "2021-02-22T16:50:50.194226Z",
     "iopub.status.idle": "2021-02-22T16:50:50.245966Z",
     "shell.execute_reply": "2021-02-22T16:50:50.245084Z"
    },
    "papermill": {
     "duration": 0.094308,
     "end_time": "2021-02-22T16:50:50.246103",
     "exception": false,
     "start_time": "2021-02-22T16:50:50.151795",
     "status": "completed"
    },
    "tags": []
   },
   "outputs": [
    {
     "name": "stdout",
     "output_type": "stream",
     "text": [
      "Model: \"model\"\n",
      "__________________________________________________________________________________________________\n",
      "Layer (type)                    Output Shape         Param #     Connected to                     \n",
      "==================================================================================================\n",
      "input_1 (InputLayer)            [(None, 224, 224, 3) 0                                            \n",
      "__________________________________________________________________________________________________\n",
      "Conv1 (Conv2D)                  (None, 112, 112, 32) 864         input_1[0][0]                    \n",
      "__________________________________________________________________________________________________\n",
      "bn_Conv1 (BatchNormalization)   (None, 112, 112, 32) 128         Conv1[0][0]                      \n",
      "__________________________________________________________________________________________________\n",
      "Conv1_relu (ReLU)               (None, 112, 112, 32) 0           bn_Conv1[0][0]                   \n",
      "__________________________________________________________________________________________________\n",
      "expanded_conv_depthwise (Depthw (None, 112, 112, 32) 288         Conv1_relu[0][0]                 \n",
      "__________________________________________________________________________________________________\n",
      "expanded_conv_depthwise_BN (Bat (None, 112, 112, 32) 128         expanded_conv_depthwise[0][0]    \n",
      "__________________________________________________________________________________________________\n",
      "expanded_conv_depthwise_relu (R (None, 112, 112, 32) 0           expanded_conv_depthwise_BN[0][0] \n",
      "__________________________________________________________________________________________________\n",
      "expanded_conv_project (Conv2D)  (None, 112, 112, 16) 512         expanded_conv_depthwise_relu[0][0\n",
      "__________________________________________________________________________________________________\n",
      "expanded_conv_project_BN (Batch (None, 112, 112, 16) 64          expanded_conv_project[0][0]      \n",
      "__________________________________________________________________________________________________\n",
      "block_1_expand (Conv2D)         (None, 112, 112, 96) 1536        expanded_conv_project_BN[0][0]   \n",
      "__________________________________________________________________________________________________\n",
      "block_1_expand_BN (BatchNormali (None, 112, 112, 96) 384         block_1_expand[0][0]             \n",
      "__________________________________________________________________________________________________\n",
      "block_1_expand_relu (ReLU)      (None, 112, 112, 96) 0           block_1_expand_BN[0][0]          \n",
      "__________________________________________________________________________________________________\n",
      "block_1_pad (ZeroPadding2D)     (None, 113, 113, 96) 0           block_1_expand_relu[0][0]        \n",
      "__________________________________________________________________________________________________\n",
      "block_1_depthwise (DepthwiseCon (None, 56, 56, 96)   864         block_1_pad[0][0]                \n",
      "__________________________________________________________________________________________________\n",
      "block_1_depthwise_BN (BatchNorm (None, 56, 56, 96)   384         block_1_depthwise[0][0]          \n",
      "__________________________________________________________________________________________________\n",
      "block_1_depthwise_relu (ReLU)   (None, 56, 56, 96)   0           block_1_depthwise_BN[0][0]       \n",
      "__________________________________________________________________________________________________\n",
      "block_1_project (Conv2D)        (None, 56, 56, 24)   2304        block_1_depthwise_relu[0][0]     \n",
      "__________________________________________________________________________________________________\n",
      "block_1_project_BN (BatchNormal (None, 56, 56, 24)   96          block_1_project[0][0]            \n",
      "__________________________________________________________________________________________________\n",
      "block_2_expand (Conv2D)         (None, 56, 56, 144)  3456        block_1_project_BN[0][0]         \n",
      "__________________________________________________________________________________________________\n",
      "block_2_expand_BN (BatchNormali (None, 56, 56, 144)  576         block_2_expand[0][0]             \n",
      "__________________________________________________________________________________________________\n",
      "block_2_expand_relu (ReLU)      (None, 56, 56, 144)  0           block_2_expand_BN[0][0]          \n",
      "__________________________________________________________________________________________________\n",
      "block_2_depthwise (DepthwiseCon (None, 56, 56, 144)  1296        block_2_expand_relu[0][0]        \n",
      "__________________________________________________________________________________________________\n",
      "block_2_depthwise_BN (BatchNorm (None, 56, 56, 144)  576         block_2_depthwise[0][0]          \n",
      "__________________________________________________________________________________________________\n",
      "block_2_depthwise_relu (ReLU)   (None, 56, 56, 144)  0           block_2_depthwise_BN[0][0]       \n",
      "__________________________________________________________________________________________________\n",
      "block_2_project (Conv2D)        (None, 56, 56, 24)   3456        block_2_depthwise_relu[0][0]     \n",
      "__________________________________________________________________________________________________\n",
      "block_2_project_BN (BatchNormal (None, 56, 56, 24)   96          block_2_project[0][0]            \n",
      "__________________________________________________________________________________________________\n",
      "block_2_add (Add)               (None, 56, 56, 24)   0           block_1_project_BN[0][0]         \n",
      "                                                                 block_2_project_BN[0][0]         \n",
      "__________________________________________________________________________________________________\n",
      "block_3_expand (Conv2D)         (None, 56, 56, 144)  3456        block_2_add[0][0]                \n",
      "__________________________________________________________________________________________________\n",
      "block_3_expand_BN (BatchNormali (None, 56, 56, 144)  576         block_3_expand[0][0]             \n",
      "__________________________________________________________________________________________________\n",
      "block_3_expand_relu (ReLU)      (None, 56, 56, 144)  0           block_3_expand_BN[0][0]          \n",
      "__________________________________________________________________________________________________\n",
      "block_3_pad (ZeroPadding2D)     (None, 57, 57, 144)  0           block_3_expand_relu[0][0]        \n",
      "__________________________________________________________________________________________________\n",
      "block_3_depthwise (DepthwiseCon (None, 28, 28, 144)  1296        block_3_pad[0][0]                \n",
      "__________________________________________________________________________________________________\n",
      "block_3_depthwise_BN (BatchNorm (None, 28, 28, 144)  576         block_3_depthwise[0][0]          \n",
      "__________________________________________________________________________________________________\n",
      "block_3_depthwise_relu (ReLU)   (None, 28, 28, 144)  0           block_3_depthwise_BN[0][0]       \n",
      "__________________________________________________________________________________________________\n",
      "block_3_project (Conv2D)        (None, 28, 28, 32)   4608        block_3_depthwise_relu[0][0]     \n",
      "__________________________________________________________________________________________________\n",
      "block_3_project_BN (BatchNormal (None, 28, 28, 32)   128         block_3_project[0][0]            \n",
      "__________________________________________________________________________________________________\n",
      "block_4_expand (Conv2D)         (None, 28, 28, 192)  6144        block_3_project_BN[0][0]         \n",
      "__________________________________________________________________________________________________\n",
      "block_4_expand_BN (BatchNormali (None, 28, 28, 192)  768         block_4_expand[0][0]             \n",
      "__________________________________________________________________________________________________\n",
      "block_4_expand_relu (ReLU)      (None, 28, 28, 192)  0           block_4_expand_BN[0][0]          \n",
      "__________________________________________________________________________________________________\n",
      "block_4_depthwise (DepthwiseCon (None, 28, 28, 192)  1728        block_4_expand_relu[0][0]        \n",
      "__________________________________________________________________________________________________\n",
      "block_4_depthwise_BN (BatchNorm (None, 28, 28, 192)  768         block_4_depthwise[0][0]          \n",
      "__________________________________________________________________________________________________\n",
      "block_4_depthwise_relu (ReLU)   (None, 28, 28, 192)  0           block_4_depthwise_BN[0][0]       \n",
      "__________________________________________________________________________________________________\n",
      "block_4_project (Conv2D)        (None, 28, 28, 32)   6144        block_4_depthwise_relu[0][0]     \n",
      "__________________________________________________________________________________________________\n",
      "block_4_project_BN (BatchNormal (None, 28, 28, 32)   128         block_4_project[0][0]            \n",
      "__________________________________________________________________________________________________\n",
      "block_4_add (Add)               (None, 28, 28, 32)   0           block_3_project_BN[0][0]         \n",
      "                                                                 block_4_project_BN[0][0]         \n",
      "__________________________________________________________________________________________________\n",
      "block_5_expand (Conv2D)         (None, 28, 28, 192)  6144        block_4_add[0][0]                \n",
      "__________________________________________________________________________________________________\n",
      "block_5_expand_BN (BatchNormali (None, 28, 28, 192)  768         block_5_expand[0][0]             \n",
      "__________________________________________________________________________________________________\n",
      "block_5_expand_relu (ReLU)      (None, 28, 28, 192)  0           block_5_expand_BN[0][0]          \n",
      "__________________________________________________________________________________________________\n",
      "block_5_depthwise (DepthwiseCon (None, 28, 28, 192)  1728        block_5_expand_relu[0][0]        \n",
      "__________________________________________________________________________________________________\n",
      "block_5_depthwise_BN (BatchNorm (None, 28, 28, 192)  768         block_5_depthwise[0][0]          \n",
      "__________________________________________________________________________________________________\n",
      "block_5_depthwise_relu (ReLU)   (None, 28, 28, 192)  0           block_5_depthwise_BN[0][0]       \n",
      "__________________________________________________________________________________________________\n",
      "block_5_project (Conv2D)        (None, 28, 28, 32)   6144        block_5_depthwise_relu[0][0]     \n",
      "__________________________________________________________________________________________________\n",
      "block_5_project_BN (BatchNormal (None, 28, 28, 32)   128         block_5_project[0][0]            \n",
      "__________________________________________________________________________________________________\n",
      "block_5_add (Add)               (None, 28, 28, 32)   0           block_4_add[0][0]                \n",
      "                                                                 block_5_project_BN[0][0]         \n",
      "__________________________________________________________________________________________________\n",
      "block_6_expand (Conv2D)         (None, 28, 28, 192)  6144        block_5_add[0][0]                \n",
      "__________________________________________________________________________________________________\n",
      "block_6_expand_BN (BatchNormali (None, 28, 28, 192)  768         block_6_expand[0][0]             \n",
      "__________________________________________________________________________________________________\n",
      "block_6_expand_relu (ReLU)      (None, 28, 28, 192)  0           block_6_expand_BN[0][0]          \n",
      "__________________________________________________________________________________________________\n",
      "block_6_pad (ZeroPadding2D)     (None, 29, 29, 192)  0           block_6_expand_relu[0][0]        \n",
      "__________________________________________________________________________________________________\n",
      "block_6_depthwise (DepthwiseCon (None, 14, 14, 192)  1728        block_6_pad[0][0]                \n",
      "__________________________________________________________________________________________________\n",
      "block_6_depthwise_BN (BatchNorm (None, 14, 14, 192)  768         block_6_depthwise[0][0]          \n",
      "__________________________________________________________________________________________________\n",
      "block_6_depthwise_relu (ReLU)   (None, 14, 14, 192)  0           block_6_depthwise_BN[0][0]       \n",
      "__________________________________________________________________________________________________\n",
      "block_6_project (Conv2D)        (None, 14, 14, 64)   12288       block_6_depthwise_relu[0][0]     \n",
      "__________________________________________________________________________________________________\n",
      "block_6_project_BN (BatchNormal (None, 14, 14, 64)   256         block_6_project[0][0]            \n",
      "__________________________________________________________________________________________________\n",
      "block_7_expand (Conv2D)         (None, 14, 14, 384)  24576       block_6_project_BN[0][0]         \n",
      "__________________________________________________________________________________________________\n",
      "block_7_expand_BN (BatchNormali (None, 14, 14, 384)  1536        block_7_expand[0][0]             \n",
      "__________________________________________________________________________________________________\n",
      "block_7_expand_relu (ReLU)      (None, 14, 14, 384)  0           block_7_expand_BN[0][0]          \n",
      "__________________________________________________________________________________________________\n",
      "block_7_depthwise (DepthwiseCon (None, 14, 14, 384)  3456        block_7_expand_relu[0][0]        \n",
      "__________________________________________________________________________________________________\n",
      "block_7_depthwise_BN (BatchNorm (None, 14, 14, 384)  1536        block_7_depthwise[0][0]          \n",
      "__________________________________________________________________________________________________\n",
      "block_7_depthwise_relu (ReLU)   (None, 14, 14, 384)  0           block_7_depthwise_BN[0][0]       \n",
      "__________________________________________________________________________________________________\n",
      "block_7_project (Conv2D)        (None, 14, 14, 64)   24576       block_7_depthwise_relu[0][0]     \n",
      "__________________________________________________________________________________________________\n",
      "block_7_project_BN (BatchNormal (None, 14, 14, 64)   256         block_7_project[0][0]            \n",
      "__________________________________________________________________________________________________\n",
      "block_7_add (Add)               (None, 14, 14, 64)   0           block_6_project_BN[0][0]         \n",
      "                                                                 block_7_project_BN[0][0]         \n",
      "__________________________________________________________________________________________________\n",
      "block_8_expand (Conv2D)         (None, 14, 14, 384)  24576       block_7_add[0][0]                \n",
      "__________________________________________________________________________________________________\n",
      "block_8_expand_BN (BatchNormali (None, 14, 14, 384)  1536        block_8_expand[0][0]             \n",
      "__________________________________________________________________________________________________\n",
      "block_8_expand_relu (ReLU)      (None, 14, 14, 384)  0           block_8_expand_BN[0][0]          \n",
      "__________________________________________________________________________________________________\n",
      "block_8_depthwise (DepthwiseCon (None, 14, 14, 384)  3456        block_8_expand_relu[0][0]        \n",
      "__________________________________________________________________________________________________\n",
      "block_8_depthwise_BN (BatchNorm (None, 14, 14, 384)  1536        block_8_depthwise[0][0]          \n",
      "__________________________________________________________________________________________________\n",
      "block_8_depthwise_relu (ReLU)   (None, 14, 14, 384)  0           block_8_depthwise_BN[0][0]       \n",
      "__________________________________________________________________________________________________\n",
      "block_8_project (Conv2D)        (None, 14, 14, 64)   24576       block_8_depthwise_relu[0][0]     \n",
      "__________________________________________________________________________________________________\n",
      "block_8_project_BN (BatchNormal (None, 14, 14, 64)   256         block_8_project[0][0]            \n",
      "__________________________________________________________________________________________________\n",
      "block_8_add (Add)               (None, 14, 14, 64)   0           block_7_add[0][0]                \n",
      "                                                                 block_8_project_BN[0][0]         \n",
      "__________________________________________________________________________________________________\n",
      "block_9_expand (Conv2D)         (None, 14, 14, 384)  24576       block_8_add[0][0]                \n",
      "__________________________________________________________________________________________________\n",
      "block_9_expand_BN (BatchNormali (None, 14, 14, 384)  1536        block_9_expand[0][0]             \n",
      "__________________________________________________________________________________________________\n",
      "block_9_expand_relu (ReLU)      (None, 14, 14, 384)  0           block_9_expand_BN[0][0]          \n",
      "__________________________________________________________________________________________________\n",
      "block_9_depthwise (DepthwiseCon (None, 14, 14, 384)  3456        block_9_expand_relu[0][0]        \n",
      "__________________________________________________________________________________________________\n",
      "block_9_depthwise_BN (BatchNorm (None, 14, 14, 384)  1536        block_9_depthwise[0][0]          \n",
      "__________________________________________________________________________________________________\n",
      "block_9_depthwise_relu (ReLU)   (None, 14, 14, 384)  0           block_9_depthwise_BN[0][0]       \n",
      "__________________________________________________________________________________________________\n",
      "block_9_project (Conv2D)        (None, 14, 14, 64)   24576       block_9_depthwise_relu[0][0]     \n",
      "__________________________________________________________________________________________________\n",
      "block_9_project_BN (BatchNormal (None, 14, 14, 64)   256         block_9_project[0][0]            \n",
      "__________________________________________________________________________________________________\n",
      "block_9_add (Add)               (None, 14, 14, 64)   0           block_8_add[0][0]                \n",
      "                                                                 block_9_project_BN[0][0]         \n",
      "__________________________________________________________________________________________________\n",
      "block_10_expand (Conv2D)        (None, 14, 14, 384)  24576       block_9_add[0][0]                \n",
      "__________________________________________________________________________________________________\n",
      "block_10_expand_BN (BatchNormal (None, 14, 14, 384)  1536        block_10_expand[0][0]            \n",
      "__________________________________________________________________________________________________\n",
      "block_10_expand_relu (ReLU)     (None, 14, 14, 384)  0           block_10_expand_BN[0][0]         \n",
      "__________________________________________________________________________________________________\n",
      "block_10_depthwise (DepthwiseCo (None, 14, 14, 384)  3456        block_10_expand_relu[0][0]       \n",
      "__________________________________________________________________________________________________\n",
      "block_10_depthwise_BN (BatchNor (None, 14, 14, 384)  1536        block_10_depthwise[0][0]         \n",
      "__________________________________________________________________________________________________\n",
      "block_10_depthwise_relu (ReLU)  (None, 14, 14, 384)  0           block_10_depthwise_BN[0][0]      \n",
      "__________________________________________________________________________________________________\n",
      "block_10_project (Conv2D)       (None, 14, 14, 96)   36864       block_10_depthwise_relu[0][0]    \n",
      "__________________________________________________________________________________________________\n",
      "block_10_project_BN (BatchNorma (None, 14, 14, 96)   384         block_10_project[0][0]           \n",
      "__________________________________________________________________________________________________\n",
      "block_11_expand (Conv2D)        (None, 14, 14, 576)  55296       block_10_project_BN[0][0]        \n",
      "__________________________________________________________________________________________________\n",
      "block_11_expand_BN (BatchNormal (None, 14, 14, 576)  2304        block_11_expand[0][0]            \n",
      "__________________________________________________________________________________________________\n",
      "block_11_expand_relu (ReLU)     (None, 14, 14, 576)  0           block_11_expand_BN[0][0]         \n",
      "__________________________________________________________________________________________________\n",
      "block_11_depthwise (DepthwiseCo (None, 14, 14, 576)  5184        block_11_expand_relu[0][0]       \n",
      "__________________________________________________________________________________________________\n",
      "block_11_depthwise_BN (BatchNor (None, 14, 14, 576)  2304        block_11_depthwise[0][0]         \n",
      "__________________________________________________________________________________________________\n",
      "block_11_depthwise_relu (ReLU)  (None, 14, 14, 576)  0           block_11_depthwise_BN[0][0]      \n",
      "__________________________________________________________________________________________________\n",
      "block_11_project (Conv2D)       (None, 14, 14, 96)   55296       block_11_depthwise_relu[0][0]    \n",
      "__________________________________________________________________________________________________\n",
      "block_11_project_BN (BatchNorma (None, 14, 14, 96)   384         block_11_project[0][0]           \n",
      "__________________________________________________________________________________________________\n",
      "block_11_add (Add)              (None, 14, 14, 96)   0           block_10_project_BN[0][0]        \n",
      "                                                                 block_11_project_BN[0][0]        \n",
      "__________________________________________________________________________________________________\n",
      "block_12_expand (Conv2D)        (None, 14, 14, 576)  55296       block_11_add[0][0]               \n",
      "__________________________________________________________________________________________________\n",
      "block_12_expand_BN (BatchNormal (None, 14, 14, 576)  2304        block_12_expand[0][0]            \n",
      "__________________________________________________________________________________________________\n",
      "block_12_expand_relu (ReLU)     (None, 14, 14, 576)  0           block_12_expand_BN[0][0]         \n",
      "__________________________________________________________________________________________________\n",
      "block_12_depthwise (DepthwiseCo (None, 14, 14, 576)  5184        block_12_expand_relu[0][0]       \n",
      "__________________________________________________________________________________________________\n",
      "block_12_depthwise_BN (BatchNor (None, 14, 14, 576)  2304        block_12_depthwise[0][0]         \n",
      "__________________________________________________________________________________________________\n",
      "block_12_depthwise_relu (ReLU)  (None, 14, 14, 576)  0           block_12_depthwise_BN[0][0]      \n",
      "__________________________________________________________________________________________________\n",
      "block_12_project (Conv2D)       (None, 14, 14, 96)   55296       block_12_depthwise_relu[0][0]    \n",
      "__________________________________________________________________________________________________\n",
      "block_12_project_BN (BatchNorma (None, 14, 14, 96)   384         block_12_project[0][0]           \n",
      "__________________________________________________________________________________________________\n",
      "block_12_add (Add)              (None, 14, 14, 96)   0           block_11_add[0][0]               \n",
      "                                                                 block_12_project_BN[0][0]        \n",
      "__________________________________________________________________________________________________\n",
      "block_13_expand (Conv2D)        (None, 14, 14, 576)  55296       block_12_add[0][0]               \n",
      "__________________________________________________________________________________________________\n",
      "block_13_expand_BN (BatchNormal (None, 14, 14, 576)  2304        block_13_expand[0][0]            \n",
      "__________________________________________________________________________________________________\n",
      "block_13_expand_relu (ReLU)     (None, 14, 14, 576)  0           block_13_expand_BN[0][0]         \n",
      "__________________________________________________________________________________________________\n",
      "block_13_pad (ZeroPadding2D)    (None, 15, 15, 576)  0           block_13_expand_relu[0][0]       \n",
      "__________________________________________________________________________________________________\n",
      "block_13_depthwise (DepthwiseCo (None, 7, 7, 576)    5184        block_13_pad[0][0]               \n",
      "__________________________________________________________________________________________________\n",
      "block_13_depthwise_BN (BatchNor (None, 7, 7, 576)    2304        block_13_depthwise[0][0]         \n",
      "__________________________________________________________________________________________________\n",
      "block_13_depthwise_relu (ReLU)  (None, 7, 7, 576)    0           block_13_depthwise_BN[0][0]      \n",
      "__________________________________________________________________________________________________\n",
      "block_13_project (Conv2D)       (None, 7, 7, 160)    92160       block_13_depthwise_relu[0][0]    \n",
      "__________________________________________________________________________________________________\n",
      "block_13_project_BN (BatchNorma (None, 7, 7, 160)    640         block_13_project[0][0]           \n",
      "__________________________________________________________________________________________________\n",
      "block_14_expand (Conv2D)        (None, 7, 7, 960)    153600      block_13_project_BN[0][0]        \n",
      "__________________________________________________________________________________________________\n",
      "block_14_expand_BN (BatchNormal (None, 7, 7, 960)    3840        block_14_expand[0][0]            \n",
      "__________________________________________________________________________________________________\n",
      "block_14_expand_relu (ReLU)     (None, 7, 7, 960)    0           block_14_expand_BN[0][0]         \n",
      "__________________________________________________________________________________________________\n",
      "block_14_depthwise (DepthwiseCo (None, 7, 7, 960)    8640        block_14_expand_relu[0][0]       \n",
      "__________________________________________________________________________________________________\n",
      "block_14_depthwise_BN (BatchNor (None, 7, 7, 960)    3840        block_14_depthwise[0][0]         \n",
      "__________________________________________________________________________________________________\n",
      "block_14_depthwise_relu (ReLU)  (None, 7, 7, 960)    0           block_14_depthwise_BN[0][0]      \n",
      "__________________________________________________________________________________________________\n",
      "block_14_project (Conv2D)       (None, 7, 7, 160)    153600      block_14_depthwise_relu[0][0]    \n",
      "__________________________________________________________________________________________________\n",
      "block_14_project_BN (BatchNorma (None, 7, 7, 160)    640         block_14_project[0][0]           \n",
      "__________________________________________________________________________________________________\n",
      "block_14_add (Add)              (None, 7, 7, 160)    0           block_13_project_BN[0][0]        \n",
      "                                                                 block_14_project_BN[0][0]        \n",
      "__________________________________________________________________________________________________\n",
      "block_15_expand (Conv2D)        (None, 7, 7, 960)    153600      block_14_add[0][0]               \n",
      "__________________________________________________________________________________________________\n",
      "block_15_expand_BN (BatchNormal (None, 7, 7, 960)    3840        block_15_expand[0][0]            \n",
      "__________________________________________________________________________________________________\n",
      "block_15_expand_relu (ReLU)     (None, 7, 7, 960)    0           block_15_expand_BN[0][0]         \n",
      "__________________________________________________________________________________________________\n",
      "block_15_depthwise (DepthwiseCo (None, 7, 7, 960)    8640        block_15_expand_relu[0][0]       \n",
      "__________________________________________________________________________________________________\n",
      "block_15_depthwise_BN (BatchNor (None, 7, 7, 960)    3840        block_15_depthwise[0][0]         \n",
      "__________________________________________________________________________________________________\n",
      "block_15_depthwise_relu (ReLU)  (None, 7, 7, 960)    0           block_15_depthwise_BN[0][0]      \n",
      "__________________________________________________________________________________________________\n",
      "block_15_project (Conv2D)       (None, 7, 7, 160)    153600      block_15_depthwise_relu[0][0]    \n",
      "__________________________________________________________________________________________________\n",
      "block_15_project_BN (BatchNorma (None, 7, 7, 160)    640         block_15_project[0][0]           \n",
      "__________________________________________________________________________________________________\n",
      "block_15_add (Add)              (None, 7, 7, 160)    0           block_14_add[0][0]               \n",
      "                                                                 block_15_project_BN[0][0]        \n",
      "__________________________________________________________________________________________________\n",
      "block_16_expand (Conv2D)        (None, 7, 7, 960)    153600      block_15_add[0][0]               \n",
      "__________________________________________________________________________________________________\n",
      "block_16_expand_BN (BatchNormal (None, 7, 7, 960)    3840        block_16_expand[0][0]            \n",
      "__________________________________________________________________________________________________\n",
      "block_16_expand_relu (ReLU)     (None, 7, 7, 960)    0           block_16_expand_BN[0][0]         \n",
      "__________________________________________________________________________________________________\n",
      "block_16_depthwise (DepthwiseCo (None, 7, 7, 960)    8640        block_16_expand_relu[0][0]       \n",
      "__________________________________________________________________________________________________\n",
      "block_16_depthwise_BN (BatchNor (None, 7, 7, 960)    3840        block_16_depthwise[0][0]         \n",
      "__________________________________________________________________________________________________\n",
      "block_16_depthwise_relu (ReLU)  (None, 7, 7, 960)    0           block_16_depthwise_BN[0][0]      \n",
      "__________________________________________________________________________________________________\n",
      "block_16_project (Conv2D)       (None, 7, 7, 320)    307200      block_16_depthwise_relu[0][0]    \n",
      "__________________________________________________________________________________________________\n",
      "block_16_project_BN (BatchNorma (None, 7, 7, 320)    1280        block_16_project[0][0]           \n",
      "__________________________________________________________________________________________________\n",
      "Conv_1 (Conv2D)                 (None, 7, 7, 1280)   409600      block_16_project_BN[0][0]        \n",
      "__________________________________________________________________________________________________\n",
      "Conv_1_bn (BatchNormalization)  (None, 7, 7, 1280)   5120        Conv_1[0][0]                     \n",
      "__________________________________________________________________________________________________\n",
      "out_relu (ReLU)                 (None, 7, 7, 1280)   0           Conv_1_bn[0][0]                  \n",
      "__________________________________________________________________________________________________\n",
      "flatten (Flatten)               (None, 62720)        0           out_relu[0][0]                   \n",
      "__________________________________________________________________________________________________\n",
      "dense (Dense)                   (None, 5)            313605      flatten[0][0]                    \n",
      "==================================================================================================\n",
      "Total params: 2,571,589\n",
      "Trainable params: 313,605\n",
      "Non-trainable params: 2,257,984\n",
      "__________________________________________________________________________________________________\n"
     ]
    }
   ],
   "source": [
    "model.summary()"
   ]
  },
  {
   "cell_type": "code",
   "execution_count": 16,
   "metadata": {
    "execution": {
     "iopub.execute_input": "2021-02-22T16:50:50.348192Z",
     "iopub.status.busy": "2021-02-22T16:50:50.347566Z",
     "iopub.status.idle": "2021-02-22T16:50:50.352088Z",
     "shell.execute_reply": "2021-02-22T16:50:50.352687Z"
    },
    "papermill": {
     "duration": 0.057136,
     "end_time": "2021-02-22T16:50:50.352869",
     "exception": false,
     "start_time": "2021-02-22T16:50:50.295733",
     "status": "completed"
    },
    "tags": []
   },
   "outputs": [
    {
     "name": "stdout",
     "output_type": "stream",
     "text": [
      "trainable params: 313605\n",
      "non trainable params: 2257984\n"
     ]
    }
   ],
   "source": [
    "# number of training params in MobileNetV2 model with new output layer\n",
    "trainable_params_freeze = np.sum([np.prod(v.get_shape()) for v in model.trainable_weights])\n",
    "non_trainable_params_freeze = np.sum([np.prod(v.get_shape()) for v in model.non_trainable_weights])\n",
    "print(f\"trainable params: {trainable_params_freeze}\\nnon trainable params: {non_trainable_params_freeze}\")"
   ]
  },
  {
   "cell_type": "markdown",
   "metadata": {
    "papermill": {
     "duration": 0.039182,
     "end_time": "2021-02-22T16:50:50.431356",
     "exception": false,
     "start_time": "2021-02-22T16:50:50.392174",
     "status": "completed"
    },
    "tags": []
   },
   "source": [
    "## model training -> train then save"
   ]
  },
  {
   "cell_type": "markdown",
   "metadata": {
    "papermill": {
     "duration": 0.038794,
     "end_time": "2021-02-22T16:50:50.510329",
     "exception": false,
     "start_time": "2021-02-22T16:50:50.471535",
     "status": "completed"
    },
    "tags": []
   },
   "source": [
    "trained 30 epoch model, no need to train again. Unless tweaks are made to params"
   ]
  },
  {
   "cell_type": "code",
   "execution_count": 17,
   "metadata": {
    "execution": {
     "iopub.execute_input": "2021-02-22T16:50:50.602678Z",
     "iopub.status.busy": "2021-02-22T16:50:50.601586Z",
     "iopub.status.idle": "2021-02-22T16:50:50.618465Z",
     "shell.execute_reply": "2021-02-22T16:50:50.617561Z"
    },
    "papermill": {
     "duration": 0.068818,
     "end_time": "2021-02-22T16:50:50.618641",
     "exception": false,
     "start_time": "2021-02-22T16:50:50.549823",
     "status": "completed"
    },
    "tags": []
   },
   "outputs": [],
   "source": [
    "model.compile(optimizer=Adam(lr=LEARNING_RATE), loss=LOSS_FUNC, metrics=[\"accuracy\"])"
   ]
  },
  {
   "cell_type": "code",
   "execution_count": 18,
   "metadata": {
    "execution": {
     "iopub.execute_input": "2021-02-22T16:50:50.755601Z",
     "iopub.status.busy": "2021-02-22T16:50:50.753548Z",
     "iopub.status.idle": "2021-02-22T17:53:41.528011Z",
     "shell.execute_reply": "2021-02-22T17:53:41.527161Z"
    },
    "papermill": {
     "duration": 3770.844255,
     "end_time": "2021-02-22T17:53:41.528194",
     "exception": false,
     "start_time": "2021-02-22T16:50:50.683939",
     "status": "completed"
    },
    "tags": []
   },
   "outputs": [
    {
     "name": "stderr",
     "output_type": "stream",
     "text": [
      "/opt/conda/lib/python3.7/site-packages/tensorflow/python/keras/engine/training.py:1844: UserWarning: `Model.fit_generator` is deprecated and will be removed in a future version. Please use `Model.fit`, which supports generators.\n",
      "  warnings.warn('`Model.fit_generator` is deprecated and '\n"
     ]
    },
    {
     "name": "stdout",
     "output_type": "stream",
     "text": [
      "Epoch 1/50\n",
      "110/110 - 124s - loss: 6.9221 - accuracy: 0.3200 - val_loss: 5.7624 - val_accuracy: 0.3363\n",
      "Epoch 2/50\n",
      "110/110 - 114s - loss: 4.9131 - accuracy: 0.4526 - val_loss: 5.5475 - val_accuracy: 0.4126\n",
      "Epoch 3/50\n",
      "110/110 - 114s - loss: 3.3516 - accuracy: 0.5543 - val_loss: 4.7768 - val_accuracy: 0.4671\n",
      "Epoch 4/50\n",
      "110/110 - 114s - loss: 2.7068 - accuracy: 0.6203 - val_loss: 4.7599 - val_accuracy: 0.5069\n",
      "Epoch 5/50\n",
      "110/110 - 114s - loss: 2.0002 - accuracy: 0.6791 - val_loss: 3.9156 - val_accuracy: 0.5183\n",
      "Epoch 6/50\n",
      "110/110 - 118s - loss: 1.9252 - accuracy: 0.7126 - val_loss: 3.8904 - val_accuracy: 0.5414\n",
      "Epoch 7/50\n",
      "110/110 - 115s - loss: 1.8168 - accuracy: 0.7274 - val_loss: 4.2319 - val_accuracy: 0.5323\n",
      "Epoch 8/50\n",
      "110/110 - 115s - loss: 1.2952 - accuracy: 0.7754 - val_loss: 4.4046 - val_accuracy: 0.5409\n",
      "Epoch 9/50\n",
      "110/110 - 115s - loss: 1.1242 - accuracy: 0.7946 - val_loss: 4.7127 - val_accuracy: 0.5234\n",
      "Epoch 10/50\n",
      "110/110 - 117s - loss: 1.3875 - accuracy: 0.7837 - val_loss: 5.4166 - val_accuracy: 0.5489\n",
      "Epoch 11/50\n",
      "110/110 - 117s - loss: 0.9472 - accuracy: 0.8291 - val_loss: 5.4619 - val_accuracy: 0.5574\n",
      "Epoch 12/50\n",
      "110/110 - 119s - loss: 0.8317 - accuracy: 0.8460 - val_loss: 4.3581 - val_accuracy: 0.5663\n",
      "Epoch 13/50\n",
      "110/110 - 119s - loss: 0.6202 - accuracy: 0.8757 - val_loss: 3.9820 - val_accuracy: 0.5860\n",
      "Epoch 14/50\n",
      "110/110 - 119s - loss: 0.6182 - accuracy: 0.8849 - val_loss: 4.7896 - val_accuracy: 0.5194\n",
      "Epoch 15/50\n",
      "110/110 - 123s - loss: 0.9105 - accuracy: 0.8449 - val_loss: 4.8017 - val_accuracy: 0.5946\n",
      "Epoch 16/50\n",
      "110/110 - 122s - loss: 0.5844 - accuracy: 0.8917 - val_loss: 4.9934 - val_accuracy: 0.5691\n",
      "Epoch 17/50\n",
      "110/110 - 123s - loss: 0.7134 - accuracy: 0.8794 - val_loss: 6.8262 - val_accuracy: 0.5569\n",
      "Epoch 18/50\n",
      "110/110 - 124s - loss: 0.7291 - accuracy: 0.8729 - val_loss: 5.4417 - val_accuracy: 0.5906\n",
      "Epoch 19/50\n",
      "110/110 - 124s - loss: 0.5315 - accuracy: 0.9043 - val_loss: 5.2371 - val_accuracy: 0.5826\n",
      "Epoch 20/50\n",
      "110/110 - 125s - loss: 0.4847 - accuracy: 0.9086 - val_loss: 5.4435 - val_accuracy: 0.5860\n",
      "Epoch 21/50\n",
      "110/110 - 125s - loss: 0.5706 - accuracy: 0.9091 - val_loss: 7.5665 - val_accuracy: 0.5289\n",
      "Epoch 22/50\n",
      "110/110 - 127s - loss: 0.5716 - accuracy: 0.8971 - val_loss: 5.1798 - val_accuracy: 0.6006\n",
      "Epoch 23/50\n",
      "110/110 - 124s - loss: 0.4216 - accuracy: 0.9229 - val_loss: 6.6945 - val_accuracy: 0.5854\n",
      "Epoch 24/50\n",
      "110/110 - 125s - loss: 0.7172 - accuracy: 0.8894 - val_loss: 5.6601 - val_accuracy: 0.6106\n",
      "Epoch 25/50\n",
      "110/110 - 129s - loss: 0.5367 - accuracy: 0.9074 - val_loss: 5.6820 - val_accuracy: 0.6091\n",
      "Epoch 26/50\n",
      "110/110 - 129s - loss: 0.5635 - accuracy: 0.9020 - val_loss: 7.1091 - val_accuracy: 0.5894\n",
      "Epoch 27/50\n",
      "110/110 - 129s - loss: 0.5026 - accuracy: 0.9166 - val_loss: 6.0994 - val_accuracy: 0.6009\n",
      "Epoch 28/50\n",
      "110/110 - 129s - loss: 0.6275 - accuracy: 0.9086 - val_loss: 6.9112 - val_accuracy: 0.5960\n",
      "Epoch 29/50\n",
      "110/110 - 127s - loss: 0.5502 - accuracy: 0.9109 - val_loss: 6.2345 - val_accuracy: 0.6229\n",
      "Epoch 30/50\n",
      "110/110 - 127s - loss: 0.4294 - accuracy: 0.9286 - val_loss: 6.6678 - val_accuracy: 0.6017\n",
      "Epoch 31/50\n",
      "110/110 - 124s - loss: 0.4506 - accuracy: 0.9286 - val_loss: 9.8789 - val_accuracy: 0.5246\n"
     ]
    },
    {
     "data": {
      "text/plain": [
       "<tensorflow.python.keras.callbacks.History at 0x7f29141c1410>"
      ]
     },
     "execution_count": 18,
     "metadata": {},
     "output_type": "execute_result"
    }
   ],
   "source": [
    "# early stopping enabled, controlled with PATIENCE variable\n",
    "model.fit_generator(train_batches, validation_data=valid_batches, epochs=NUM_EPOCH, verbose=2, callbacks=EarlyStopping(monitor=\"val_loss\", patience=PATIENCE, restore_best_weights=True))"
   ]
  },
  {
   "cell_type": "markdown",
   "metadata": {
    "papermill": {
     "duration": 0.071299,
     "end_time": "2021-02-22T17:53:41.664015",
     "exception": false,
     "start_time": "2021-02-22T17:53:41.592716",
     "status": "completed"
    },
    "tags": []
   },
   "source": [
    "## SECOND PASS/FINE TUNING"
   ]
  },
  {
   "cell_type": "code",
   "execution_count": 19,
   "metadata": {
    "execution": {
     "iopub.execute_input": "2021-02-22T17:53:41.796002Z",
     "iopub.status.busy": "2021-02-22T17:53:41.795251Z",
     "iopub.status.idle": "2021-02-22T17:53:41.799641Z",
     "shell.execute_reply": "2021-02-22T17:53:41.799008Z"
    },
    "papermill": {
     "duration": 0.072094,
     "end_time": "2021-02-22T17:53:41.799805",
     "exception": false,
     "start_time": "2021-02-22T17:53:41.727711",
     "status": "completed"
    },
    "tags": []
   },
   "outputs": [],
   "source": [
    "# # MODEL PARAMS - second pass\n",
    "# NUM_EPOCH = 5\n",
    "# LEARNING_RATE = 0.0001\n",
    "# TRAIL_NUM = 2"
   ]
  },
  {
   "cell_type": "code",
   "execution_count": 20,
   "metadata": {
    "execution": {
     "iopub.execute_input": "2021-02-22T17:53:41.933346Z",
     "iopub.status.busy": "2021-02-22T17:53:41.931509Z",
     "iopub.status.idle": "2021-02-22T17:53:41.934029Z",
     "shell.execute_reply": "2021-02-22T17:53:41.934507Z"
    },
    "papermill": {
     "duration": 0.070727,
     "end_time": "2021-02-22T17:53:41.934657",
     "exception": false,
     "start_time": "2021-02-22T17:53:41.863930",
     "status": "completed"
    },
    "tags": []
   },
   "outputs": [],
   "source": [
    "# for layer in model.layers[:FREEZE_LAYERS]:\n",
    "#     layer.trainable = True"
   ]
  },
  {
   "cell_type": "code",
   "execution_count": 21,
   "metadata": {
    "execution": {
     "iopub.execute_input": "2021-02-22T17:53:42.068801Z",
     "iopub.status.busy": "2021-02-22T17:53:42.068070Z",
     "iopub.status.idle": "2021-02-22T17:53:42.072664Z",
     "shell.execute_reply": "2021-02-22T17:53:42.071975Z"
    },
    "papermill": {
     "duration": 0.07395,
     "end_time": "2021-02-22T17:53:42.072831",
     "exception": false,
     "start_time": "2021-02-22T17:53:41.998881",
     "status": "completed"
    },
    "tags": []
   },
   "outputs": [],
   "source": [
    "# model.compile(optimizer=Adam(lr=0.0001), loss=LOSS_FUNC, metrics=[\"accuracy\"])"
   ]
  },
  {
   "cell_type": "code",
   "execution_count": 22,
   "metadata": {
    "execution": {
     "iopub.execute_input": "2021-02-22T17:53:42.209386Z",
     "iopub.status.busy": "2021-02-22T17:53:42.207443Z",
     "iopub.status.idle": "2021-02-22T17:53:42.210127Z",
     "shell.execute_reply": "2021-02-22T17:53:42.210606Z"
    },
    "papermill": {
     "duration": 0.072399,
     "end_time": "2021-02-22T17:53:42.210798",
     "exception": false,
     "start_time": "2021-02-22T17:53:42.138399",
     "status": "completed"
    },
    "tags": []
   },
   "outputs": [],
   "source": [
    "# model.fit(x=train_batches, validation_data=valid_batches, epochs=5, verbose=2)"
   ]
  },
  {
   "cell_type": "markdown",
   "metadata": {
    "papermill": {
     "duration": 0.065057,
     "end_time": "2021-02-22T17:53:42.342135",
     "exception": false,
     "start_time": "2021-02-22T17:53:42.277078",
     "status": "completed"
    },
    "tags": []
   },
   "source": [
    "## saving model "
   ]
  },
  {
   "cell_type": "code",
   "execution_count": 23,
   "metadata": {
    "execution": {
     "iopub.execute_input": "2021-02-22T17:53:42.477683Z",
     "iopub.status.busy": "2021-02-22T17:53:42.475575Z",
     "iopub.status.idle": "2021-02-22T17:53:42.478506Z",
     "shell.execute_reply": "2021-02-22T17:53:42.479055Z"
    },
    "papermill": {
     "duration": 0.073783,
     "end_time": "2021-02-22T17:53:42.479223",
     "exception": false,
     "start_time": "2021-02-22T17:53:42.405440",
     "status": "completed"
    },
    "tags": []
   },
   "outputs": [],
   "source": [
    "# can save model after first or second run \n",
    "SAVE_LOC = f'./trial{TRAIL_NUM}'"
   ]
  },
  {
   "cell_type": "code",
   "execution_count": 24,
   "metadata": {
    "execution": {
     "iopub.execute_input": "2021-02-22T17:53:42.624620Z",
     "iopub.status.busy": "2021-02-22T17:53:42.623719Z",
     "iopub.status.idle": "2021-02-22T17:53:42.915591Z",
     "shell.execute_reply": "2021-02-22T17:53:42.914690Z"
    },
    "papermill": {
     "duration": 0.37051,
     "end_time": "2021-02-22T17:53:42.915768",
     "exception": false,
     "start_time": "2021-02-22T17:53:42.545258",
     "status": "completed"
    },
    "tags": []
   },
   "outputs": [],
   "source": [
    "model.save(SAVE_LOC, save_format=\"h5\")"
   ]
  },
  {
   "cell_type": "markdown",
   "metadata": {
    "papermill": {
     "duration": 0.066985,
     "end_time": "2021-02-22T17:53:43.048642",
     "exception": false,
     "start_time": "2021-02-22T17:53:42.981657",
     "status": "completed"
    },
    "tags": []
   },
   "source": [
    "# Performance Evaluations"
   ]
  },
  {
   "cell_type": "code",
   "execution_count": 25,
   "metadata": {
    "execution": {
     "iopub.execute_input": "2021-02-22T17:53:43.211107Z",
     "iopub.status.busy": "2021-02-22T17:53:43.207927Z",
     "iopub.status.idle": "2021-02-22T17:53:43.381734Z",
     "shell.execute_reply": "2021-02-22T17:53:43.382314Z"
    },
    "papermill": {
     "duration": 0.267884,
     "end_time": "2021-02-22T17:53:43.382487",
     "exception": false,
     "start_time": "2021-02-22T17:53:43.114603",
     "status": "completed"
    },
    "tags": []
   },
   "outputs": [
    {
     "data": {
      "image/png": "[encoded data removed]",
      "text/plain": [
       "<Figure size 432x288 with 1 Axes>"
      ]
     },
     "metadata": {
      "needs_background": "light"
     },
     "output_type": "display_data"
    }
   ],
   "source": [
    "# only needed if training, use after training\n",
    "\n",
    "plt.plot(model.history.history['accuracy'])\n",
    "plt.plot(model.history.history['val_accuracy'])\n",
    "plt.title('model accuracy')\n",
    "plt.ylabel('accuracy')\n",
    "plt.xlabel('epoch')\n",
    "plt.legend(['train', 'val'], loc='upper left')\n",
    "plt.show()"
   ]
  },
  {
   "cell_type": "code",
   "execution_count": 26,
   "metadata": {
    "execution": {
     "iopub.execute_input": "2021-02-22T17:53:43.544237Z",
     "iopub.status.busy": "2021-02-22T17:53:43.542961Z",
     "iopub.status.idle": "2021-02-22T17:53:43.768891Z",
     "shell.execute_reply": "2021-02-22T17:53:43.770226Z"
    },
    "papermill": {
     "duration": 0.320552,
     "end_time": "2021-02-22T17:53:43.770692",
     "exception": false,
     "start_time": "2021-02-22T17:53:43.450140",
     "status": "completed"
    },
    "tags": []
   },
   "outputs": [
    {
     "data": {
      "image/png": "[encoded data removed]",
      "text/plain": [
       "<Figure size 432x288 with 1 Axes>"
      ]
     },
     "metadata": {
      "needs_background": "light"
     },
     "output_type": "display_data"
    }
   ],
   "source": [
    "# only needed if training, use after training\n",
    "\n",
    "plt.plot(model.history.history['loss'])\n",
    "plt.plot(model.history.history['val_loss'])\n",
    "plt.title('model loss')\n",
    "plt.ylabel('loss')\n",
    "plt.xlabel('epoch')\n",
    "plt.legend(['train', 'val'], loc='upper left')\n",
    "plt.show()"
   ]
  },
  {
   "cell_type": "markdown",
   "metadata": {
    "papermill": {
     "duration": 0.091143,
     "end_time": "2021-02-22T17:53:43.958777",
     "exception": false,
     "start_time": "2021-02-22T17:53:43.867634",
     "status": "completed"
    },
    "tags": []
   },
   "source": [
    "# Load existing model"
   ]
  },
  {
   "cell_type": "code",
   "execution_count": 27,
   "metadata": {
    "execution": {
     "iopub.execute_input": "2021-02-22T17:53:44.158842Z",
     "iopub.status.busy": "2021-02-22T17:53:44.157823Z",
     "iopub.status.idle": "2021-02-22T17:53:44.160383Z",
     "shell.execute_reply": "2021-02-22T17:53:44.159676Z"
    },
    "papermill": {
     "duration": 0.107479,
     "end_time": "2021-02-22T17:53:44.160556",
     "exception": false,
     "start_time": "2021-02-22T17:53:44.053077",
     "status": "completed"
    },
    "tags": []
   },
   "outputs": [],
   "source": [
    "# proper labels \n",
    "proper_labels = {\n",
    "    0: \"no DR\",\n",
    "    1: \"Mild\",\n",
    "    2: \"Moderate\",\n",
    "    3: \"Severe\",\n",
    "    4: \"Proliferative DR\"\n",
    "}"
   ]
  },
  {
   "cell_type": "code",
   "execution_count": 28,
   "metadata": {
    "execution": {
     "iopub.execute_input": "2021-02-22T17:53:44.347302Z",
     "iopub.status.busy": "2021-02-22T17:53:44.345401Z",
     "iopub.status.idle": "2021-02-22T17:53:44.347985Z",
     "shell.execute_reply": "2021-02-22T17:53:44.348480Z"
    },
    "papermill": {
     "duration": 0.090212,
     "end_time": "2021-02-22T17:53:44.348646",
     "exception": false,
     "start_time": "2021-02-22T17:53:44.258434",
     "status": "completed"
    },
    "tags": []
   },
   "outputs": [],
   "source": [
    "# get actual class of a single instance\n",
    "\n",
    "def actual_class(img_path):\n",
    "    path = os.path.dirname(img_path)\n",
    "    class_num = path[-1]\n",
    "    real_class = proper_labels.get(int(class_num))\n",
    "    return (real_class, class_num)"
   ]
  },
  {
   "cell_type": "code",
   "execution_count": 29,
   "metadata": {
    "execution": {
     "iopub.execute_input": "2021-02-22T17:53:44.490694Z",
     "iopub.status.busy": "2021-02-22T17:53:44.490011Z",
     "iopub.status.idle": "2021-02-22T17:53:46.541573Z",
     "shell.execute_reply": "2021-02-22T17:53:46.540372Z"
    },
    "papermill": {
     "duration": 2.125433,
     "end_time": "2021-02-22T17:53:46.541761",
     "exception": false,
     "start_time": "2021-02-22T17:53:44.416328",
     "status": "completed"
    },
    "tags": []
   },
   "outputs": [],
   "source": [
    "# loading already trained model via path\n",
    "trained_model_path = \"../input/final-model/good\"\n",
    "loaded_model = keras.models.load_model(trained_model_path)"
   ]
  },
  {
   "cell_type": "markdown",
   "metadata": {
    "papermill": {
     "duration": 0.072655,
     "end_time": "2021-02-22T17:53:46.687673",
     "exception": false,
     "start_time": "2021-02-22T17:53:46.615018",
     "status": "completed"
    },
    "tags": []
   },
   "source": [
    "## confusion matrix for test set "
   ]
  },
  {
   "cell_type": "markdown",
   "metadata": {
    "papermill": {
     "duration": 0.066804,
     "end_time": "2021-02-22T17:53:46.824535",
     "exception": false,
     "start_time": "2021-02-22T17:53:46.757731",
     "status": "completed"
    },
    "tags": []
   },
   "source": [
    "must create test set before running the following cells"
   ]
  },
  {
   "cell_type": "code",
   "execution_count": 30,
   "metadata": {
    "execution": {
     "iopub.execute_input": "2021-02-22T17:53:47.023773Z",
     "iopub.status.busy": "2021-02-22T17:53:47.022825Z",
     "iopub.status.idle": "2021-02-22T17:53:47.025876Z",
     "shell.execute_reply": "2021-02-22T17:53:47.026375Z"
    },
    "papermill": {
     "duration": 0.135149,
     "end_time": "2021-02-22T17:53:47.026542",
     "exception": false,
     "start_time": "2021-02-22T17:53:46.891393",
     "status": "completed"
    },
    "tags": []
   },
   "outputs": [],
   "source": [
    "def plot_confusion_matrix(cm, classes,\n",
    "                        normalize=False,\n",
    "                        title='Confusion matrix',\n",
    "                        cmap=plt.cm.Blues):\n",
    "    \"\"\"\n",
    "    This function prints and plots the confusion matrix.\n",
    "    Normalization can be applied by setting `normalize=True`.\n",
    "    \"\"\"\n",
    "    plt.imshow(cm, interpolation='nearest', cmap=cmap)\n",
    "    plt.title(title)\n",
    "    plt.colorbar()\n",
    "    tick_marks = np.arange(len(classes))\n",
    "    plt.xticks(tick_marks, classes, rotation=45)\n",
    "    plt.yticks(tick_marks, classes)\n",
    "\n",
    "    if normalize:\n",
    "        cm = cm.astype('float') / cm.sum(axis=1)[:, np.newaxis]\n",
    "        print(\"Normalized confusion matrix\")\n",
    "    else:\n",
    "        print('Confusion matrix, without normalization')\n",
    "\n",
    "    print(cm)\n",
    "\n",
    "    thresh = cm.max() / 2.\n",
    "    for i, j in itertools.product(range(cm.shape[0]), range(cm.shape[1])):\n",
    "        plt.text(j, i, cm[i, j],\n",
    "            horizontalalignment=\"center\",\n",
    "            color=\"white\" if cm[i, j] > thresh else \"black\")\n",
    "\n",
    "    plt.tight_layout()\n",
    "    plt.ylabel('True label')\n",
    "    plt.xlabel('Predicted label')"
   ]
  },
  {
   "cell_type": "code",
   "execution_count": 31,
   "metadata": {
    "execution": {
     "iopub.execute_input": "2021-02-22T17:53:47.169873Z",
     "iopub.status.busy": "2021-02-22T17:53:47.168222Z",
     "iopub.status.idle": "2021-02-22T17:54:52.282430Z",
     "shell.execute_reply": "2021-02-22T17:54:52.283155Z"
    },
    "papermill": {
     "duration": 65.188499,
     "end_time": "2021-02-22T17:54:52.283397",
     "exception": false,
     "start_time": "2021-02-22T17:53:47.094898",
     "status": "completed"
    },
    "tags": []
   },
   "outputs": [
    {
     "name": "stdout",
     "output_type": "stream",
     "text": [
      "test loss, test acc: [3.923013925552368, 0.6085714101791382]\n"
     ]
    }
   ],
   "source": [
    "# evaluation -> loss, acc (from keras)\n",
    "test_eval = loaded_model.evaluate(test_batches, verbose=0)\n",
    "print(f'test loss, test acc: {test_eval}')"
   ]
  },
  {
   "cell_type": "code",
   "execution_count": 32,
   "metadata": {
    "execution": {
     "iopub.execute_input": "2021-02-22T17:54:52.435365Z",
     "iopub.status.busy": "2021-02-22T17:54:52.433786Z",
     "iopub.status.idle": "2021-02-22T17:55:56.320969Z",
     "shell.execute_reply": "2021-02-22T17:55:56.319724Z"
    },
    "papermill": {
     "duration": 63.965274,
     "end_time": "2021-02-22T17:55:56.321151",
     "exception": false,
     "start_time": "2021-02-22T17:54:52.355877",
     "status": "completed"
    },
    "tags": []
   },
   "outputs": [],
   "source": [
    "# prediction -> confusion matrix (custom function)\n",
    "predictions = loaded_model.predict(test_batches, verbose=0)"
   ]
  },
  {
   "cell_type": "code",
   "execution_count": 33,
   "metadata": {
    "execution": {
     "iopub.execute_input": "2021-02-22T17:55:56.465955Z",
     "iopub.status.busy": "2021-02-22T17:55:56.464990Z",
     "iopub.status.idle": "2021-02-22T17:55:56.484390Z",
     "shell.execute_reply": "2021-02-22T17:55:56.483703Z"
    },
    "papermill": {
     "duration": 0.092991,
     "end_time": "2021-02-22T17:55:56.484539",
     "exception": false,
     "start_time": "2021-02-22T17:55:56.391548",
     "status": "completed"
    },
    "tags": []
   },
   "outputs": [],
   "source": [
    "test_labels = test_batches.classes\n",
    "cm = confusion_matrix(y_true=test_labels, y_pred=predictions.argmax(axis=1))"
   ]
  },
  {
   "cell_type": "code",
   "execution_count": 34,
   "metadata": {
    "execution": {
     "iopub.execute_input": "2021-02-22T17:55:56.650559Z",
     "iopub.status.busy": "2021-02-22T17:55:56.649614Z",
     "iopub.status.idle": "2021-02-22T17:55:56.939341Z",
     "shell.execute_reply": "2021-02-22T17:55:56.939882Z"
    },
    "papermill": {
     "duration": 0.385313,
     "end_time": "2021-02-22T17:55:56.940096",
     "exception": false,
     "start_time": "2021-02-22T17:55:56.554783",
     "status": "completed"
    },
    "tags": []
   },
   "outputs": [
    {
     "name": "stdout",
     "output_type": "stream",
     "text": [
      "Confusion matrix, without normalization\n",
      "[[279 162 176  48  35]\n",
      " [175 333 147  29  16]\n",
      " [164 111 298  76  51]\n",
      " [ 29  27  73 544  27]\n",
      " [  3   2  13   6 676]]\n"
     ]
    },
    {
     "data": {
      "image/png": "[encoded data removed]",
      "text/plain": [
       "<Figure size 432x288 with 2 Axes>"
      ]
     },
     "metadata": {
      "needs_background": "light"
     },
     "output_type": "display_data"
    }
   ],
   "source": [
    "cm_plot_labels = [\"0\", \"1\", \"2\", \"3\", \"4\"]\n",
    "plot_confusion_matrix(cm=cm, classes=cm_plot_labels, title=\"Confusion Matrix\")"
   ]
  },
  {
   "cell_type": "code",
   "execution_count": 35,
   "metadata": {
    "execution": {
     "iopub.execute_input": "2021-02-22T17:55:57.093909Z",
     "iopub.status.busy": "2021-02-22T17:55:57.092912Z",
     "iopub.status.idle": "2021-02-22T17:55:57.101825Z",
     "shell.execute_reply": "2021-02-22T17:55:57.102494Z"
    },
    "papermill": {
     "duration": 0.089507,
     "end_time": "2021-02-22T17:55:57.102680",
     "exception": false,
     "start_time": "2021-02-22T17:55:57.013173",
     "status": "completed"
    },
    "tags": []
   },
   "outputs": [
    {
     "name": "stdout",
     "output_type": "stream",
     "text": [
      "acc: 0.6085714285714285, recall: 0.6085714285714287, precision: 0.5977435043336208\n"
     ]
    }
   ],
   "source": [
    "from sklearn.metrics import accuracy_score, recall_score, precision_score\n",
    "\n",
    "pred_arr = predictions.argmax(1)\n",
    "\n",
    "test_acc = accuracy_score(y_true=test_labels, y_pred=pred_arr)\n",
    "test_recall = recall_score(y_true=test_labels, y_pred=pred_arr, average=\"macro\")\n",
    "test_precision = precision_score(y_true=test_labels, y_pred=pred_arr, average=\"macro\")\n",
    "\n",
    "print(f'acc: {test_acc}, recall: {test_recall}, precision: {test_precision}')"
   ]
  },
  {
   "cell_type": "code",
   "execution_count": 36,
   "metadata": {
    "execution": {
     "iopub.execute_input": "2021-02-22T17:55:57.256210Z",
     "iopub.status.busy": "2021-02-22T17:55:57.255266Z",
     "iopub.status.idle": "2021-02-22T17:55:57.265234Z",
     "shell.execute_reply": "2021-02-22T17:55:57.264663Z"
    },
    "papermill": {
     "duration": 0.088471,
     "end_time": "2021-02-22T17:55:57.265408",
     "exception": false,
     "start_time": "2021-02-22T17:55:57.176937",
     "status": "completed"
    },
    "tags": []
   },
   "outputs": [
    {
     "name": "stdout",
     "output_type": "stream",
     "text": [
      "AUC: 0.2610645408163265\n"
     ]
    }
   ],
   "source": [
    "from sklearn.metrics import roc_curve, auc, f1_score\n",
    "test_f1_score = f1_score(test_labels, pred_arr, average=\"macro\")\n",
    "\n",
    "fpr, tpr, thresholds = roc_curve(test_labels, pred_arr, pos_label=0) # auc for class 0\n",
    "test_auc = auc(fpr, tpr)\n",
    "\n",
    "print(f'AUC: {test_auc}')"
   ]
  },
  {
   "cell_type": "code",
   "execution_count": 37,
   "metadata": {
    "execution": {
     "iopub.execute_input": "2021-02-22T17:55:57.415996Z",
     "iopub.status.busy": "2021-02-22T17:55:57.415155Z",
     "iopub.status.idle": "2021-02-22T17:55:57.418370Z",
     "shell.execute_reply": "2021-02-22T17:55:57.417819Z"
    },
    "papermill": {
     "duration": 0.079791,
     "end_time": "2021-02-22T17:55:57.418521",
     "exception": false,
     "start_time": "2021-02-22T17:55:57.338730",
     "status": "completed"
    },
    "tags": []
   },
   "outputs": [],
   "source": [
    "# removing all models from current kernel\n",
    "# keras.backend.clear_session()"
   ]
  }
 ],
 "metadata": {
  "kernelspec": {
   "display_name": "Python 3",
   "language": "python",
   "name": "python3"
  },
  "language_info": {
   "codemirror_mode": {
    "name": "ipython",
    "version": 3
   },
   "file_extension": ".py",
   "mimetype": "text/x-python",
   "name": "python",
   "nbconvert_exporter": "python",
   "pygments_lexer": "ipython3",
   "version": "3.7.9"
  },
  "papermill": {
   "default_parameters": {},
   "duration": 3996.750073,
   "end_time": "2021-02-22T17:56:00.753459",
   "environment_variables": {},
   "exception": null,
   "input_path": "__notebook__.ipynb",
   "output_path": "__notebook__.ipynb",
   "parameters": {},
   "start_time": "2021-02-22T16:49:24.003386",
   "version": "2.2.2"
  }
 },
 "nbformat": 4,
 "nbformat_minor": 4
}
